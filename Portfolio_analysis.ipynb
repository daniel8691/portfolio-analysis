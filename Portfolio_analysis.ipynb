{
 "cells": [
  {
   "cell_type": "code",
   "execution_count": 1,
   "metadata": {},
   "outputs": [
    {
     "name": "stderr",
     "output_type": "stream",
     "text": [
      "C:\\Users\\smartestpersonalive\\Anaconda3\\lib\\site-packages\\pandas_datareader\\compat\\__init__.py:7: FutureWarning: pandas.util.testing is deprecated. Use the functions in the public API at pandas.testing instead.\n",
      "  from pandas.util.testing import assert_frame_equal\n"
     ]
    }
   ],
   "source": [
    "import numpy as np\n",
    "import pandas as pd\n",
    "import matplotlib.pyplot as plt\n",
    "%matplotlib inline\n",
    "import seaborn as sns\n",
    "from pandas_datareader import data as wb"
   ]
  },
  {
   "cell_type": "code",
   "execution_count": 2,
   "metadata": {},
   "outputs": [],
   "source": [
    "# companies I am looking for\n",
    "tickers = ['BCE.TO','BPY-UN.TO','RY.TO','SU.TO', 'ENB.TO']\n",
    "mystocks = pd.DataFrame()\n",
    "\n",
    "# extract data from yahoo finance\n",
    "for a in tickers:\n",
    "    mystocks[a] = wb.DataReader(a, data_source = 'yahoo', start=\"2013-7-1\")['Adj Close']\n",
    "    \n"
   ]
  },
  {
   "cell_type": "code",
   "execution_count": 78,
   "metadata": {},
   "outputs": [
    {
     "data": {
      "text/html": [
       "<div>\n",
       "<style scoped>\n",
       "    .dataframe tbody tr th:only-of-type {\n",
       "        vertical-align: middle;\n",
       "    }\n",
       "\n",
       "    .dataframe tbody tr th {\n",
       "        vertical-align: top;\n",
       "    }\n",
       "\n",
       "    .dataframe thead th {\n",
       "        text-align: right;\n",
       "    }\n",
       "</style>\n",
       "<table border=\"1\" class=\"dataframe\">\n",
       "  <thead>\n",
       "    <tr style=\"text-align: right;\">\n",
       "      <th></th>\n",
       "      <th>GS10</th>\n",
       "    </tr>\n",
       "    <tr>\n",
       "      <th>DATE</th>\n",
       "      <th></th>\n",
       "    </tr>\n",
       "  </thead>\n",
       "  <tbody>\n",
       "    <tr>\n",
       "      <th>2015-09-01</th>\n",
       "      <td>2.17</td>\n",
       "    </tr>\n",
       "    <tr>\n",
       "      <th>2015-10-01</th>\n",
       "      <td>2.07</td>\n",
       "    </tr>\n",
       "    <tr>\n",
       "      <th>2015-11-01</th>\n",
       "      <td>2.26</td>\n",
       "    </tr>\n",
       "    <tr>\n",
       "      <th>2015-12-01</th>\n",
       "      <td>2.24</td>\n",
       "    </tr>\n",
       "    <tr>\n",
       "      <th>2016-01-01</th>\n",
       "      <td>2.09</td>\n",
       "    </tr>\n",
       "    <tr>\n",
       "      <th>2016-02-01</th>\n",
       "      <td>1.78</td>\n",
       "    </tr>\n",
       "    <tr>\n",
       "      <th>2016-03-01</th>\n",
       "      <td>1.89</td>\n",
       "    </tr>\n",
       "    <tr>\n",
       "      <th>2016-04-01</th>\n",
       "      <td>1.81</td>\n",
       "    </tr>\n",
       "    <tr>\n",
       "      <th>2016-05-01</th>\n",
       "      <td>1.81</td>\n",
       "    </tr>\n",
       "    <tr>\n",
       "      <th>2016-06-01</th>\n",
       "      <td>1.64</td>\n",
       "    </tr>\n",
       "    <tr>\n",
       "      <th>2016-07-01</th>\n",
       "      <td>1.50</td>\n",
       "    </tr>\n",
       "    <tr>\n",
       "      <th>2016-08-01</th>\n",
       "      <td>1.56</td>\n",
       "    </tr>\n",
       "    <tr>\n",
       "      <th>2016-09-01</th>\n",
       "      <td>1.63</td>\n",
       "    </tr>\n",
       "    <tr>\n",
       "      <th>2016-10-01</th>\n",
       "      <td>1.76</td>\n",
       "    </tr>\n",
       "    <tr>\n",
       "      <th>2016-11-01</th>\n",
       "      <td>2.14</td>\n",
       "    </tr>\n",
       "    <tr>\n",
       "      <th>2016-12-01</th>\n",
       "      <td>2.49</td>\n",
       "    </tr>\n",
       "    <tr>\n",
       "      <th>2017-01-01</th>\n",
       "      <td>2.43</td>\n",
       "    </tr>\n",
       "    <tr>\n",
       "      <th>2017-02-01</th>\n",
       "      <td>2.42</td>\n",
       "    </tr>\n",
       "    <tr>\n",
       "      <th>2017-03-01</th>\n",
       "      <td>2.48</td>\n",
       "    </tr>\n",
       "    <tr>\n",
       "      <th>2017-04-01</th>\n",
       "      <td>2.30</td>\n",
       "    </tr>\n",
       "    <tr>\n",
       "      <th>2017-05-01</th>\n",
       "      <td>2.30</td>\n",
       "    </tr>\n",
       "    <tr>\n",
       "      <th>2017-06-01</th>\n",
       "      <td>2.19</td>\n",
       "    </tr>\n",
       "    <tr>\n",
       "      <th>2017-07-01</th>\n",
       "      <td>2.32</td>\n",
       "    </tr>\n",
       "    <tr>\n",
       "      <th>2017-08-01</th>\n",
       "      <td>2.21</td>\n",
       "    </tr>\n",
       "    <tr>\n",
       "      <th>2017-09-01</th>\n",
       "      <td>2.20</td>\n",
       "    </tr>\n",
       "    <tr>\n",
       "      <th>2017-10-01</th>\n",
       "      <td>2.36</td>\n",
       "    </tr>\n",
       "    <tr>\n",
       "      <th>2017-11-01</th>\n",
       "      <td>2.35</td>\n",
       "    </tr>\n",
       "    <tr>\n",
       "      <th>2017-12-01</th>\n",
       "      <td>2.40</td>\n",
       "    </tr>\n",
       "    <tr>\n",
       "      <th>2018-01-01</th>\n",
       "      <td>2.58</td>\n",
       "    </tr>\n",
       "    <tr>\n",
       "      <th>2018-02-01</th>\n",
       "      <td>2.86</td>\n",
       "    </tr>\n",
       "    <tr>\n",
       "      <th>2018-03-01</th>\n",
       "      <td>2.84</td>\n",
       "    </tr>\n",
       "    <tr>\n",
       "      <th>2018-04-01</th>\n",
       "      <td>2.87</td>\n",
       "    </tr>\n",
       "    <tr>\n",
       "      <th>2018-05-01</th>\n",
       "      <td>2.98</td>\n",
       "    </tr>\n",
       "    <tr>\n",
       "      <th>2018-06-01</th>\n",
       "      <td>2.91</td>\n",
       "    </tr>\n",
       "    <tr>\n",
       "      <th>2018-07-01</th>\n",
       "      <td>2.89</td>\n",
       "    </tr>\n",
       "    <tr>\n",
       "      <th>2018-08-01</th>\n",
       "      <td>2.89</td>\n",
       "    </tr>\n",
       "    <tr>\n",
       "      <th>2018-09-01</th>\n",
       "      <td>3.00</td>\n",
       "    </tr>\n",
       "    <tr>\n",
       "      <th>2018-10-01</th>\n",
       "      <td>3.15</td>\n",
       "    </tr>\n",
       "    <tr>\n",
       "      <th>2018-11-01</th>\n",
       "      <td>3.12</td>\n",
       "    </tr>\n",
       "    <tr>\n",
       "      <th>2018-12-01</th>\n",
       "      <td>2.83</td>\n",
       "    </tr>\n",
       "    <tr>\n",
       "      <th>2019-01-01</th>\n",
       "      <td>2.71</td>\n",
       "    </tr>\n",
       "    <tr>\n",
       "      <th>2019-02-01</th>\n",
       "      <td>2.68</td>\n",
       "    </tr>\n",
       "    <tr>\n",
       "      <th>2019-03-01</th>\n",
       "      <td>2.57</td>\n",
       "    </tr>\n",
       "    <tr>\n",
       "      <th>2019-04-01</th>\n",
       "      <td>2.53</td>\n",
       "    </tr>\n",
       "    <tr>\n",
       "      <th>2019-05-01</th>\n",
       "      <td>2.40</td>\n",
       "    </tr>\n",
       "    <tr>\n",
       "      <th>2019-06-01</th>\n",
       "      <td>2.07</td>\n",
       "    </tr>\n",
       "    <tr>\n",
       "      <th>2019-07-01</th>\n",
       "      <td>2.06</td>\n",
       "    </tr>\n",
       "    <tr>\n",
       "      <th>2019-08-01</th>\n",
       "      <td>1.63</td>\n",
       "    </tr>\n",
       "    <tr>\n",
       "      <th>2019-09-01</th>\n",
       "      <td>1.70</td>\n",
       "    </tr>\n",
       "    <tr>\n",
       "      <th>2019-10-01</th>\n",
       "      <td>1.71</td>\n",
       "    </tr>\n",
       "    <tr>\n",
       "      <th>2019-11-01</th>\n",
       "      <td>1.81</td>\n",
       "    </tr>\n",
       "    <tr>\n",
       "      <th>2019-12-01</th>\n",
       "      <td>1.86</td>\n",
       "    </tr>\n",
       "    <tr>\n",
       "      <th>2020-01-01</th>\n",
       "      <td>1.76</td>\n",
       "    </tr>\n",
       "    <tr>\n",
       "      <th>2020-02-01</th>\n",
       "      <td>1.50</td>\n",
       "    </tr>\n",
       "    <tr>\n",
       "      <th>2020-03-01</th>\n",
       "      <td>0.87</td>\n",
       "    </tr>\n",
       "    <tr>\n",
       "      <th>2020-04-01</th>\n",
       "      <td>0.66</td>\n",
       "    </tr>\n",
       "    <tr>\n",
       "      <th>2020-05-01</th>\n",
       "      <td>0.67</td>\n",
       "    </tr>\n",
       "    <tr>\n",
       "      <th>2020-06-01</th>\n",
       "      <td>0.73</td>\n",
       "    </tr>\n",
       "    <tr>\n",
       "      <th>2020-07-01</th>\n",
       "      <td>0.62</td>\n",
       "    </tr>\n",
       "  </tbody>\n",
       "</table>\n",
       "</div>"
      ],
      "text/plain": [
       "            GS10\n",
       "DATE            \n",
       "2015-09-01  2.17\n",
       "2015-10-01  2.07\n",
       "2015-11-01  2.26\n",
       "2015-12-01  2.24\n",
       "2016-01-01  2.09\n",
       "2016-02-01  1.78\n",
       "2016-03-01  1.89\n",
       "2016-04-01  1.81\n",
       "2016-05-01  1.81\n",
       "2016-06-01  1.64\n",
       "2016-07-01  1.50\n",
       "2016-08-01  1.56\n",
       "2016-09-01  1.63\n",
       "2016-10-01  1.76\n",
       "2016-11-01  2.14\n",
       "2016-12-01  2.49\n",
       "2017-01-01  2.43\n",
       "2017-02-01  2.42\n",
       "2017-03-01  2.48\n",
       "2017-04-01  2.30\n",
       "2017-05-01  2.30\n",
       "2017-06-01  2.19\n",
       "2017-07-01  2.32\n",
       "2017-08-01  2.21\n",
       "2017-09-01  2.20\n",
       "2017-10-01  2.36\n",
       "2017-11-01  2.35\n",
       "2017-12-01  2.40\n",
       "2018-01-01  2.58\n",
       "2018-02-01  2.86\n",
       "2018-03-01  2.84\n",
       "2018-04-01  2.87\n",
       "2018-05-01  2.98\n",
       "2018-06-01  2.91\n",
       "2018-07-01  2.89\n",
       "2018-08-01  2.89\n",
       "2018-09-01  3.00\n",
       "2018-10-01  3.15\n",
       "2018-11-01  3.12\n",
       "2018-12-01  2.83\n",
       "2019-01-01  2.71\n",
       "2019-02-01  2.68\n",
       "2019-03-01  2.57\n",
       "2019-04-01  2.53\n",
       "2019-05-01  2.40\n",
       "2019-06-01  2.07\n",
       "2019-07-01  2.06\n",
       "2019-08-01  1.63\n",
       "2019-09-01  1.70\n",
       "2019-10-01  1.71\n",
       "2019-11-01  1.81\n",
       "2019-12-01  1.86\n",
       "2020-01-01  1.76\n",
       "2020-02-01  1.50\n",
       "2020-03-01  0.87\n",
       "2020-04-01  0.66\n",
       "2020-05-01  0.67\n",
       "2020-06-01  0.73\n",
       "2020-07-01  0.62"
      ]
     },
     "execution_count": 78,
     "metadata": {},
     "output_type": "execute_result"
    }
   ],
   "source": [
    "wb.get_data_fred(\"GS10\")"
   ]
  },
  {
   "cell_type": "code",
   "execution_count": 3,
   "metadata": {},
   "outputs": [
    {
     "data": {
      "text/html": [
       "<div>\n",
       "<style scoped>\n",
       "    .dataframe tbody tr th:only-of-type {\n",
       "        vertical-align: middle;\n",
       "    }\n",
       "\n",
       "    .dataframe tbody tr th {\n",
       "        vertical-align: top;\n",
       "    }\n",
       "\n",
       "    .dataframe thead th {\n",
       "        text-align: right;\n",
       "    }\n",
       "</style>\n",
       "<table border=\"1\" class=\"dataframe\">\n",
       "  <thead>\n",
       "    <tr style=\"text-align: right;\">\n",
       "      <th></th>\n",
       "      <th>BCE.TO</th>\n",
       "      <th>BPY-UN.TO</th>\n",
       "      <th>RY.TO</th>\n",
       "      <th>SU.TO</th>\n",
       "      <th>ENB.TO</th>\n",
       "    </tr>\n",
       "    <tr>\n",
       "      <th>Date</th>\n",
       "      <th></th>\n",
       "      <th></th>\n",
       "      <th></th>\n",
       "      <th></th>\n",
       "      <th></th>\n",
       "    </tr>\n",
       "  </thead>\n",
       "  <tbody>\n",
       "    <tr>\n",
       "      <th>2013-07-02</th>\n",
       "      <td>30.162237</td>\n",
       "      <td>15.553943</td>\n",
       "      <td>45.397285</td>\n",
       "      <td>24.953312</td>\n",
       "      <td>31.834698</td>\n",
       "    </tr>\n",
       "    <tr>\n",
       "      <th>2013-07-03</th>\n",
       "      <td>29.930817</td>\n",
       "      <td>15.289946</td>\n",
       "      <td>45.114151</td>\n",
       "      <td>24.921320</td>\n",
       "      <td>31.586428</td>\n",
       "    </tr>\n",
       "    <tr>\n",
       "      <th>2013-07-04</th>\n",
       "      <td>30.148211</td>\n",
       "      <td>15.575945</td>\n",
       "      <td>45.315315</td>\n",
       "      <td>24.873329</td>\n",
       "      <td>31.636084</td>\n",
       "    </tr>\n",
       "    <tr>\n",
       "      <th>2013-07-05</th>\n",
       "      <td>30.092110</td>\n",
       "      <td>15.766608</td>\n",
       "      <td>45.352573</td>\n",
       "      <td>24.897324</td>\n",
       "      <td>31.402006</td>\n",
       "    </tr>\n",
       "    <tr>\n",
       "      <th>2013-07-08</th>\n",
       "      <td>30.288483</td>\n",
       "      <td>15.627281</td>\n",
       "      <td>45.568649</td>\n",
       "      <td>25.273228</td>\n",
       "      <td>31.643177</td>\n",
       "    </tr>\n",
       "  </tbody>\n",
       "</table>\n",
       "</div>"
      ],
      "text/plain": [
       "               BCE.TO  BPY-UN.TO      RY.TO      SU.TO     ENB.TO\n",
       "Date                                                             \n",
       "2013-07-02  30.162237  15.553943  45.397285  24.953312  31.834698\n",
       "2013-07-03  29.930817  15.289946  45.114151  24.921320  31.586428\n",
       "2013-07-04  30.148211  15.575945  45.315315  24.873329  31.636084\n",
       "2013-07-05  30.092110  15.766608  45.352573  24.897324  31.402006\n",
       "2013-07-08  30.288483  15.627281  45.568649  25.273228  31.643177"
      ]
     },
     "execution_count": 3,
     "metadata": {},
     "output_type": "execute_result"
    }
   ],
   "source": [
    "mystocks.head()"
   ]
  },
  {
   "cell_type": "code",
   "execution_count": 4,
   "metadata": {},
   "outputs": [
    {
     "name": "stdout",
     "output_type": "stream",
     "text": [
      "                BCE.TO   BPY-UN.TO       RY.TO       SU.TO      ENB.TO\n",
      "Date                                                                  \n",
      "2013-07-02  100.000000  100.000000  100.000000  100.000000  100.000000\n",
      "2013-07-03   99.232748   98.302700   99.376319   99.871793   99.220128\n",
      "2013-07-04   99.953496  100.141458   99.819438   99.679470   99.376108\n",
      "2013-07-05   99.767499  101.367277   99.901509   99.775628   98.640818\n",
      "2013-07-08  100.418555  100.471511  100.377476  101.282057   99.398390\n",
      "                BCE.TO   BPY-UN.TO       RY.TO      SU.TO      ENB.TO\n",
      "Date                                                                 \n",
      "2020-08-18  188.679638  101.003330  214.374051  88.645551  136.360647\n",
      "2020-08-19  189.176953  100.810454  215.189083  87.643680  136.077936\n",
      "2020-08-20  189.773727  100.810454  215.695712  85.960536  135.763818\n",
      "2020-08-21  190.834655  100.617573  215.695712  83.716340  135.826644\n",
      "2020-08-24  190.967262  102.032007  217.854439  87.082627  136.329240\n"
     ]
    }
   ],
   "source": [
    "# normalize the data \n",
    "normalized_data = mystocks / mystocks.iloc[0] * 100\n",
    "\n",
    "# check for errors\n",
    "print(normalized_data.head())\n",
    "print(normalized_data.tail())"
   ]
  },
  {
   "cell_type": "code",
   "execution_count": 79,
   "metadata": {},
   "outputs": [
    {
     "data": {
      "image/png": "[encoded data removed]",
      "text/plain": [
       "<Figure size 1080x720 with 1 Axes>"
      ]
     },
     "metadata": {
      "needs_background": "light"
     },
     "output_type": "display_data"
    },
    {
     "data": {
      "text/plain": [
       "<Figure size 432x288 with 0 Axes>"
      ]
     },
     "metadata": {},
     "output_type": "display_data"
    }
   ],
   "source": [
    "# plt.figure(figsize=(15,10))\n",
    "# sns.lineplot(data=normalized_data)\n",
    "ax = normalized_data.plot(figsize = (15,10))\n",
    "\n",
    "plt.show()\n",
    "plt.savefig(\"growth_comparison.png\")"
   ]
  },
  {
   "cell_type": "code",
   "execution_count": 6,
   "metadata": {},
   "outputs": [
    {
     "data": {
      "text/html": [
       "<div>\n",
       "<style scoped>\n",
       "    .dataframe tbody tr th:only-of-type {\n",
       "        vertical-align: middle;\n",
       "    }\n",
       "\n",
       "    .dataframe tbody tr th {\n",
       "        vertical-align: top;\n",
       "    }\n",
       "\n",
       "    .dataframe thead th {\n",
       "        text-align: right;\n",
       "    }\n",
       "</style>\n",
       "<table border=\"1\" class=\"dataframe\">\n",
       "  <thead>\n",
       "    <tr style=\"text-align: right;\">\n",
       "      <th></th>\n",
       "      <th>BCE.TO</th>\n",
       "      <th>BPY-UN.TO</th>\n",
       "      <th>RY.TO</th>\n",
       "      <th>SU.TO</th>\n",
       "      <th>ENB.TO</th>\n",
       "    </tr>\n",
       "    <tr>\n",
       "      <th>Date</th>\n",
       "      <th></th>\n",
       "      <th></th>\n",
       "      <th></th>\n",
       "      <th></th>\n",
       "      <th></th>\n",
       "    </tr>\n",
       "  </thead>\n",
       "  <tbody>\n",
       "    <tr>\n",
       "      <th>2013-07-02</th>\n",
       "      <td>NaN</td>\n",
       "      <td>NaN</td>\n",
       "      <td>NaN</td>\n",
       "      <td>NaN</td>\n",
       "      <td>NaN</td>\n",
       "    </tr>\n",
       "    <tr>\n",
       "      <th>2013-07-03</th>\n",
       "      <td>-0.007673</td>\n",
       "      <td>-0.016973</td>\n",
       "      <td>-0.006237</td>\n",
       "      <td>-0.001282</td>\n",
       "      <td>-0.007799</td>\n",
       "    </tr>\n",
       "    <tr>\n",
       "      <th>2013-07-04</th>\n",
       "      <td>0.007263</td>\n",
       "      <td>0.018705</td>\n",
       "      <td>0.004459</td>\n",
       "      <td>-0.001926</td>\n",
       "      <td>0.001572</td>\n",
       "    </tr>\n",
       "    <tr>\n",
       "      <th>2013-07-05</th>\n",
       "      <td>-0.001861</td>\n",
       "      <td>0.012241</td>\n",
       "      <td>0.000822</td>\n",
       "      <td>0.000965</td>\n",
       "      <td>-0.007399</td>\n",
       "    </tr>\n",
       "    <tr>\n",
       "      <th>2013-07-08</th>\n",
       "      <td>0.006526</td>\n",
       "      <td>-0.008837</td>\n",
       "      <td>0.004764</td>\n",
       "      <td>0.015098</td>\n",
       "      <td>0.007680</td>\n",
       "    </tr>\n",
       "  </tbody>\n",
       "</table>\n",
       "</div>"
      ],
      "text/plain": [
       "              BCE.TO  BPY-UN.TO     RY.TO     SU.TO    ENB.TO\n",
       "Date                                                         \n",
       "2013-07-02       NaN        NaN       NaN       NaN       NaN\n",
       "2013-07-03 -0.007673  -0.016973 -0.006237 -0.001282 -0.007799\n",
       "2013-07-04  0.007263   0.018705  0.004459 -0.001926  0.001572\n",
       "2013-07-05 -0.001861   0.012241  0.000822  0.000965 -0.007399\n",
       "2013-07-08  0.006526  -0.008837  0.004764  0.015098  0.007680"
      ]
     },
     "execution_count": 6,
     "metadata": {},
     "output_type": "execute_result"
    }
   ],
   "source": [
    "# Calculate the return of the portfolio\n",
    "# find the percentage change per day\n",
    "returns = mystocks / mystocks.shift(1) - 1\n",
    "returns.head()"
   ]
  },
  {
   "cell_type": "code",
   "execution_count": 7,
   "metadata": {},
   "outputs": [
    {
     "data": {
      "text/plain": [
       "array([0.25, 0.25, 0.25, 0.25, 0.25])"
      ]
     },
     "execution_count": 7,
     "metadata": {},
     "output_type": "execute_result"
    }
   ],
   "source": [
    "# weightings of each stock in the portfolio\n",
    "# Assume 25% each first\n",
    "weights = np.array([0.25,0.25,0.25,0.25,0.25])\n",
    "weights"
   ]
  },
  {
   "cell_type": "code",
   "execution_count": 8,
   "metadata": {},
   "outputs": [
    {
     "data": {
      "text/plain": [
       "array([        nan, -0.00999078,  0.00751841, ..., -0.00400096,\n",
       "       -0.00549184,  0.01716788])"
      ]
     },
     "execution_count": 8,
     "metadata": {},
     "output_type": "execute_result"
    }
   ],
   "source": [
    "np.dot(returns,weights)"
   ]
  },
  {
   "cell_type": "code",
   "execution_count": 9,
   "metadata": {},
   "outputs": [
    {
     "data": {
      "text/plain": [
       "BCE.TO       0.103713\n",
       "BPY-UN.TO    0.044446\n",
       "RY.TO        0.124875\n",
       "SU.TO        0.033351\n",
       "ENB.TO       0.079054\n",
       "dtype: float64"
      ]
     },
     "execution_count": 9,
     "metadata": {},
     "output_type": "execute_result"
    }
   ],
   "source": [
    "# use approximately 250 trading days to account for off market days\n",
    "annual_returns = returns.mean() * 250\n",
    "annual_returns"
   ]
  },
  {
   "cell_type": "code",
   "execution_count": 10,
   "metadata": {},
   "outputs": [
    {
     "name": "stdout",
     "output_type": "stream",
     "text": [
      "This portfolio has a annual return of 9.64%\n"
     ]
    }
   ],
   "source": [
    "# estimate dot product\n",
    "np.dot(annual_returns, weights)\n",
    "portfolio = round(np.dot(annual_returns,weights),4)\n",
    "print(f\"This portfolio has a annual return of {portfolio * 100}%\")"
   ]
  },
  {
   "cell_type": "code",
   "execution_count": null,
   "metadata": {},
   "outputs": [],
   "source": []
  },
  {
   "cell_type": "markdown",
   "metadata": {},
   "source": [
    "### Calculating risk of the securities\n"
   ]
  },
  {
   "cell_type": "code",
   "execution_count": 11,
   "metadata": {},
   "outputs": [
    {
     "data": {
      "text/plain": [
       "['BCE.TO', 'BPY-UN.TO', 'RY.TO', 'SU.TO', 'ENB.TO']"
      ]
     },
     "execution_count": 11,
     "metadata": {},
     "output_type": "execute_result"
    }
   ],
   "source": [
    "# list out all companies within the portfolio\n",
    "tickers"
   ]
  },
  {
   "cell_type": "code",
   "execution_count": 12,
   "metadata": {},
   "outputs": [
    {
     "data": {
      "text/plain": [
       "BCE.TO       0.103713\n",
       "BPY-UN.TO    0.044446\n",
       "RY.TO        0.124875\n",
       "SU.TO        0.033351\n",
       "ENB.TO       0.079054\n",
       "dtype: float64"
      ]
     },
     "execution_count": 12,
     "metadata": {},
     "output_type": "execute_result"
    }
   ],
   "source": [
    "# Annual rate of returns\n",
    "returns[tickers].mean() * 250"
   ]
  },
  {
   "cell_type": "code",
   "execution_count": 13,
   "metadata": {},
   "outputs": [
    {
     "data": {
      "text/plain": [
       "BCE.TO       0.163753\n",
       "BPY-UN.TO    0.286712\n",
       "RY.TO        0.180843\n",
       "SU.TO        0.323084\n",
       "ENB.TO       0.267483\n",
       "dtype: float64"
      ]
     },
     "execution_count": 13,
     "metadata": {},
     "output_type": "execute_result"
    }
   ],
   "source": [
    "# standard deviations\n",
    "# annualized standard deviations\n",
    "returns[tickers].std() * (250 ** 0.5)"
   ]
  },
  {
   "cell_type": "markdown",
   "metadata": {},
   "source": [
    "BCE and RBC have higher rate of returns and lower volatility percentage"
   ]
  },
  {
   "cell_type": "code",
   "execution_count": 14,
   "metadata": {},
   "outputs": [
    {
     "data": {
      "text/plain": [
       "BCE.TO       0.026815\n",
       "BPY-UN.TO    0.082204\n",
       "RY.TO        0.032704\n",
       "SU.TO        0.104383\n",
       "ENB.TO       0.071547\n",
       "dtype: float64"
      ]
     },
     "execution_count": 14,
     "metadata": {},
     "output_type": "execute_result"
    }
   ],
   "source": [
    "# Calculate the variance \n",
    "returns[tickers].var() * 250"
   ]
  },
  {
   "cell_type": "code",
   "execution_count": 15,
   "metadata": {},
   "outputs": [
    {
     "data": {
      "text/html": [
       "<div>\n",
       "<style scoped>\n",
       "    .dataframe tbody tr th:only-of-type {\n",
       "        vertical-align: middle;\n",
       "    }\n",
       "\n",
       "    .dataframe tbody tr th {\n",
       "        vertical-align: top;\n",
       "    }\n",
       "\n",
       "    .dataframe thead th {\n",
       "        text-align: right;\n",
       "    }\n",
       "</style>\n",
       "<table border=\"1\" class=\"dataframe\">\n",
       "  <thead>\n",
       "    <tr style=\"text-align: right;\">\n",
       "      <th></th>\n",
       "      <th>BCE.TO</th>\n",
       "      <th>BPY-UN.TO</th>\n",
       "      <th>RY.TO</th>\n",
       "      <th>SU.TO</th>\n",
       "      <th>ENB.TO</th>\n",
       "    </tr>\n",
       "  </thead>\n",
       "  <tbody>\n",
       "    <tr>\n",
       "      <th>BCE.TO</th>\n",
       "      <td>0.026815</td>\n",
       "      <td>0.021475</td>\n",
       "      <td>0.018165</td>\n",
       "      <td>0.022388</td>\n",
       "      <td>0.022320</td>\n",
       "    </tr>\n",
       "    <tr>\n",
       "      <th>BPY-UN.TO</th>\n",
       "      <td>0.021475</td>\n",
       "      <td>0.082204</td>\n",
       "      <td>0.028114</td>\n",
       "      <td>0.037761</td>\n",
       "      <td>0.032578</td>\n",
       "    </tr>\n",
       "    <tr>\n",
       "      <th>RY.TO</th>\n",
       "      <td>0.018165</td>\n",
       "      <td>0.028114</td>\n",
       "      <td>0.032704</td>\n",
       "      <td>0.033648</td>\n",
       "      <td>0.028081</td>\n",
       "    </tr>\n",
       "    <tr>\n",
       "      <th>SU.TO</th>\n",
       "      <td>0.022388</td>\n",
       "      <td>0.037761</td>\n",
       "      <td>0.033648</td>\n",
       "      <td>0.104383</td>\n",
       "      <td>0.048920</td>\n",
       "    </tr>\n",
       "    <tr>\n",
       "      <th>ENB.TO</th>\n",
       "      <td>0.022320</td>\n",
       "      <td>0.032578</td>\n",
       "      <td>0.028081</td>\n",
       "      <td>0.048920</td>\n",
       "      <td>0.071547</td>\n",
       "    </tr>\n",
       "  </tbody>\n",
       "</table>\n",
       "</div>"
      ],
      "text/plain": [
       "             BCE.TO  BPY-UN.TO     RY.TO     SU.TO    ENB.TO\n",
       "BCE.TO     0.026815   0.021475  0.018165  0.022388  0.022320\n",
       "BPY-UN.TO  0.021475   0.082204  0.028114  0.037761  0.032578\n",
       "RY.TO      0.018165   0.028114  0.032704  0.033648  0.028081\n",
       "SU.TO      0.022388   0.037761  0.033648  0.104383  0.048920\n",
       "ENB.TO     0.022320   0.032578  0.028081  0.048920  0.071547"
      ]
     },
     "execution_count": 15,
     "metadata": {},
     "output_type": "execute_result"
    }
   ],
   "source": [
    "# Calculate the covariance (annualized)\n",
    "cov_matrix = returns.cov() * 250\n",
    "cov_matrix"
   ]
  },
  {
   "cell_type": "code",
   "execution_count": 16,
   "metadata": {},
   "outputs": [
    {
     "data": {
      "text/html": [
       "<div>\n",
       "<style scoped>\n",
       "    .dataframe tbody tr th:only-of-type {\n",
       "        vertical-align: middle;\n",
       "    }\n",
       "\n",
       "    .dataframe tbody tr th {\n",
       "        vertical-align: top;\n",
       "    }\n",
       "\n",
       "    .dataframe thead th {\n",
       "        text-align: right;\n",
       "    }\n",
       "</style>\n",
       "<table border=\"1\" class=\"dataframe\">\n",
       "  <thead>\n",
       "    <tr style=\"text-align: right;\">\n",
       "      <th></th>\n",
       "      <th>BCE.TO</th>\n",
       "      <th>BPY-UN.TO</th>\n",
       "      <th>RY.TO</th>\n",
       "      <th>SU.TO</th>\n",
       "      <th>ENB.TO</th>\n",
       "    </tr>\n",
       "  </thead>\n",
       "  <tbody>\n",
       "    <tr>\n",
       "      <th>BCE.TO</th>\n",
       "      <td>1.000000</td>\n",
       "      <td>0.457400</td>\n",
       "      <td>0.613405</td>\n",
       "      <td>0.423161</td>\n",
       "      <td>0.509573</td>\n",
       "    </tr>\n",
       "    <tr>\n",
       "      <th>BPY-UN.TO</th>\n",
       "      <td>0.457400</td>\n",
       "      <td>1.000000</td>\n",
       "      <td>0.542219</td>\n",
       "      <td>0.407643</td>\n",
       "      <td>0.424796</td>\n",
       "    </tr>\n",
       "    <tr>\n",
       "      <th>RY.TO</th>\n",
       "      <td>0.613405</td>\n",
       "      <td>0.542219</td>\n",
       "      <td>1.000000</td>\n",
       "      <td>0.575898</td>\n",
       "      <td>0.580518</td>\n",
       "    </tr>\n",
       "    <tr>\n",
       "      <th>SU.TO</th>\n",
       "      <td>0.423161</td>\n",
       "      <td>0.407643</td>\n",
       "      <td>0.575898</td>\n",
       "      <td>1.000000</td>\n",
       "      <td>0.566075</td>\n",
       "    </tr>\n",
       "    <tr>\n",
       "      <th>ENB.TO</th>\n",
       "      <td>0.509573</td>\n",
       "      <td>0.424796</td>\n",
       "      <td>0.580518</td>\n",
       "      <td>0.566075</td>\n",
       "      <td>1.000000</td>\n",
       "    </tr>\n",
       "  </tbody>\n",
       "</table>\n",
       "</div>"
      ],
      "text/plain": [
       "             BCE.TO  BPY-UN.TO     RY.TO     SU.TO    ENB.TO\n",
       "BCE.TO     1.000000   0.457400  0.613405  0.423161  0.509573\n",
       "BPY-UN.TO  0.457400   1.000000  0.542219  0.407643  0.424796\n",
       "RY.TO      0.613405   0.542219  1.000000  0.575898  0.580518\n",
       "SU.TO      0.423161   0.407643  0.575898  1.000000  0.566075\n",
       "ENB.TO     0.509573   0.424796  0.580518  0.566075  1.000000"
      ]
     },
     "execution_count": 16,
     "metadata": {},
     "output_type": "execute_result"
    }
   ],
   "source": [
    "# calculate the correlation betweeen stocks\n",
    "corr_matrix = returns.corr()\n",
    "corr_matrix"
   ]
  },
  {
   "cell_type": "markdown",
   "metadata": {},
   "source": [
    "### Calculate Portfolio Risk\n",
    "\n",
    "Assuming the stocks within the portfolio all have equal weightings"
   ]
  },
  {
   "cell_type": "code",
   "execution_count": 17,
   "metadata": {},
   "outputs": [],
   "source": [
    "weights = np.array([0.20,0.2,0.2,0.2,0.2])"
   ]
  },
  {
   "cell_type": "code",
   "execution_count": 18,
   "metadata": {},
   "outputs": [
    {
     "data": {
      "text/plain": [
       "0.036182080551894195"
      ]
     },
     "execution_count": 18,
     "metadata": {},
     "output_type": "execute_result"
    }
   ],
   "source": [
    "# portfolio variance\n",
    "# transpose the vector using .T (matrix multiplication)\n",
    "portfolio_var = np.dot(weights.T, np.dot(cov_matrix, weights))\n",
    "portfolio_var"
   ]
  },
  {
   "cell_type": "code",
   "execution_count": 19,
   "metadata": {},
   "outputs": [
    {
     "data": {
      "text/plain": [
       "0.19021587881113972"
      ]
     },
     "execution_count": 19,
     "metadata": {},
     "output_type": "execute_result"
    }
   ],
   "source": [
    "# portfolio volatility (standard deviation)\n",
    "portfolio_vol = portfolio_var ** 0.5\n",
    "portfolio_vol"
   ]
  },
  {
   "cell_type": "markdown",
   "metadata": {},
   "source": [
    "### Calculate Diversifiable and Non-diversifiable Risk of Portfolio\n",
    "diversifiable risk = porfolio variance - weighted annual variances"
   ]
  },
  {
   "cell_type": "code",
   "execution_count": 20,
   "metadata": {},
   "outputs": [
    {
     "data": {
      "text/plain": [
       "['BCE.TO', 'BPY-UN.TO', 'RY.TO', 'SU.TO', 'ENB.TO']"
      ]
     },
     "execution_count": 20,
     "metadata": {},
     "output_type": "execute_result"
    }
   ],
   "source": [
    "# calculate annual variances for each stocks in the portfolio\n",
    "stocks_var = returns[tickers].var()*250\n",
    "tickers "
   ]
  },
  {
   "cell_type": "code",
   "execution_count": 21,
   "metadata": {},
   "outputs": [],
   "source": [
    "BCE_var = stocks_var[0]\n",
    "BPY_var = stocks_var[1]\n",
    "RY_var = stocks_var[2]\n",
    "SU_var = stocks_var[3]\n",
    "ENB_var = stocks_var[4]"
   ]
  },
  {
   "cell_type": "code",
   "execution_count": 22,
   "metadata": {},
   "outputs": [
    {
     "data": {
      "text/plain": [
       "0.023475956381631385"
      ]
     },
     "execution_count": 22,
     "metadata": {},
     "output_type": "execute_result"
    }
   ],
   "source": [
    "# Diversifiable Risk:\n",
    "diversifiable_risk = portfolio_var - (weights[0] ** 2 * BCE_var) - \\\n",
    "                                    (weights[1] ** 2 * BPY_var) - \\\n",
    "                                    (weights[2] ** 2 * RY_var) - \\\n",
    "                                    (weights[3] ** 2 * SU_var) - \\\n",
    "                                    (weights[4] ** 2 * ENB_var)\n",
    "                \n",
    "diversifiable_risk"
   ]
  },
  {
   "cell_type": "markdown",
   "metadata": {},
   "source": [
    "Through the formula we can see that the more companies you have within your portfoio the lower the diversifiable risk"
   ]
  },
  {
   "cell_type": "code",
   "execution_count": 23,
   "metadata": {},
   "outputs": [
    {
     "data": {
      "text/plain": [
       "0.01270612417026281"
      ]
     },
     "execution_count": 23,
     "metadata": {},
     "output_type": "execute_result"
    }
   ],
   "source": [
    "# non-diversifiable risk\n",
    "nondiversifiable_risk = portfolio_var - diversifiable_risk\n",
    "nondiversifiable_risk"
   ]
  },
  {
   "cell_type": "code",
   "execution_count": 24,
   "metadata": {},
   "outputs": [
    {
     "name": "stdout",
     "output_type": "stream",
     "text": [
      "The Diversifiable risk is 2.35%\n",
      "The non-diversifiable risk is 1.27%\n"
     ]
    }
   ],
   "source": [
    "print(f\"The Diversifiable risk is {round(diversifiable_risk,4)*100}%\")\n",
    "print(f\"The non-diversifiable risk is {round(nondiversifiable_risk,4)*100}%\")"
   ]
  },
  {
   "cell_type": "code",
   "execution_count": null,
   "metadata": {},
   "outputs": [],
   "source": []
  },
  {
   "cell_type": "markdown",
   "metadata": {},
   "source": [
    "### Obtaining the efficient frontier"
   ]
  },
  {
   "cell_type": "code",
   "execution_count": 25,
   "metadata": {},
   "outputs": [
    {
     "data": {
      "text/html": [
       "<div>\n",
       "<style scoped>\n",
       "    .dataframe tbody tr th:only-of-type {\n",
       "        vertical-align: middle;\n",
       "    }\n",
       "\n",
       "    .dataframe tbody tr th {\n",
       "        vertical-align: top;\n",
       "    }\n",
       "\n",
       "    .dataframe thead th {\n",
       "        text-align: right;\n",
       "    }\n",
       "</style>\n",
       "<table border=\"1\" class=\"dataframe\">\n",
       "  <thead>\n",
       "    <tr style=\"text-align: right;\">\n",
       "      <th></th>\n",
       "      <th>BCE.TO</th>\n",
       "      <th>BPY-UN.TO</th>\n",
       "      <th>RY.TO</th>\n",
       "      <th>SU.TO</th>\n",
       "      <th>ENB.TO</th>\n",
       "    </tr>\n",
       "    <tr>\n",
       "      <th>Date</th>\n",
       "      <th></th>\n",
       "      <th></th>\n",
       "      <th></th>\n",
       "      <th></th>\n",
       "      <th></th>\n",
       "    </tr>\n",
       "  </thead>\n",
       "  <tbody>\n",
       "    <tr>\n",
       "      <th>2013-07-02</th>\n",
       "      <td>30.162237</td>\n",
       "      <td>15.553943</td>\n",
       "      <td>45.397285</td>\n",
       "      <td>24.953312</td>\n",
       "      <td>31.834698</td>\n",
       "    </tr>\n",
       "    <tr>\n",
       "      <th>2013-07-03</th>\n",
       "      <td>29.930817</td>\n",
       "      <td>15.289946</td>\n",
       "      <td>45.114151</td>\n",
       "      <td>24.921320</td>\n",
       "      <td>31.586428</td>\n",
       "    </tr>\n",
       "    <tr>\n",
       "      <th>2013-07-04</th>\n",
       "      <td>30.148211</td>\n",
       "      <td>15.575945</td>\n",
       "      <td>45.315315</td>\n",
       "      <td>24.873329</td>\n",
       "      <td>31.636084</td>\n",
       "    </tr>\n",
       "    <tr>\n",
       "      <th>2013-07-05</th>\n",
       "      <td>30.092110</td>\n",
       "      <td>15.766608</td>\n",
       "      <td>45.352573</td>\n",
       "      <td>24.897324</td>\n",
       "      <td>31.402006</td>\n",
       "    </tr>\n",
       "    <tr>\n",
       "      <th>2013-07-08</th>\n",
       "      <td>30.288483</td>\n",
       "      <td>15.627281</td>\n",
       "      <td>45.568649</td>\n",
       "      <td>25.273228</td>\n",
       "      <td>31.643177</td>\n",
       "    </tr>\n",
       "    <tr>\n",
       "      <th>...</th>\n",
       "      <td>...</td>\n",
       "      <td>...</td>\n",
       "      <td>...</td>\n",
       "      <td>...</td>\n",
       "      <td>...</td>\n",
       "    </tr>\n",
       "    <tr>\n",
       "      <th>2020-08-18</th>\n",
       "      <td>56.910000</td>\n",
       "      <td>15.710000</td>\n",
       "      <td>97.320000</td>\n",
       "      <td>22.120001</td>\n",
       "      <td>43.410000</td>\n",
       "    </tr>\n",
       "    <tr>\n",
       "      <th>2020-08-19</th>\n",
       "      <td>57.060001</td>\n",
       "      <td>15.680000</td>\n",
       "      <td>97.690002</td>\n",
       "      <td>21.870001</td>\n",
       "      <td>43.320000</td>\n",
       "    </tr>\n",
       "    <tr>\n",
       "      <th>2020-08-20</th>\n",
       "      <td>57.240002</td>\n",
       "      <td>15.680000</td>\n",
       "      <td>97.919998</td>\n",
       "      <td>21.450001</td>\n",
       "      <td>43.220001</td>\n",
       "    </tr>\n",
       "    <tr>\n",
       "      <th>2020-08-21</th>\n",
       "      <td>57.560001</td>\n",
       "      <td>15.650000</td>\n",
       "      <td>97.919998</td>\n",
       "      <td>20.889999</td>\n",
       "      <td>43.240002</td>\n",
       "    </tr>\n",
       "    <tr>\n",
       "      <th>2020-08-24</th>\n",
       "      <td>57.599998</td>\n",
       "      <td>15.870000</td>\n",
       "      <td>98.900002</td>\n",
       "      <td>21.730000</td>\n",
       "      <td>43.400002</td>\n",
       "    </tr>\n",
       "  </tbody>\n",
       "</table>\n",
       "<p>1794 rows × 5 columns</p>\n",
       "</div>"
      ],
      "text/plain": [
       "               BCE.TO  BPY-UN.TO      RY.TO      SU.TO     ENB.TO\n",
       "Date                                                             \n",
       "2013-07-02  30.162237  15.553943  45.397285  24.953312  31.834698\n",
       "2013-07-03  29.930817  15.289946  45.114151  24.921320  31.586428\n",
       "2013-07-04  30.148211  15.575945  45.315315  24.873329  31.636084\n",
       "2013-07-05  30.092110  15.766608  45.352573  24.897324  31.402006\n",
       "2013-07-08  30.288483  15.627281  45.568649  25.273228  31.643177\n",
       "...               ...        ...        ...        ...        ...\n",
       "2020-08-18  56.910000  15.710000  97.320000  22.120001  43.410000\n",
       "2020-08-19  57.060001  15.680000  97.690002  21.870001  43.320000\n",
       "2020-08-20  57.240002  15.680000  97.919998  21.450001  43.220001\n",
       "2020-08-21  57.560001  15.650000  97.919998  20.889999  43.240002\n",
       "2020-08-24  57.599998  15.870000  98.900002  21.730000  43.400002\n",
       "\n",
       "[1794 rows x 5 columns]"
      ]
     },
     "execution_count": 25,
     "metadata": {},
     "output_type": "execute_result"
    }
   ],
   "source": [
    "mystocks\n"
   ]
  },
  {
   "cell_type": "code",
   "execution_count": 26,
   "metadata": {},
   "outputs": [
    {
     "data": {
      "text/plain": [
       "<matplotlib.axes._subplots.AxesSubplot at 0x23ec7bd0408>"
      ]
     },
     "execution_count": 26,
     "metadata": {},
     "output_type": "execute_result"
    },
    {
     "data": {
      "image/png": "[encoded data removed]",
      "text/plain": [
       "<Figure size 720x360 with 1 Axes>"
      ]
     },
     "metadata": {
      "needs_background": "light"
     },
     "output_type": "display_data"
    }
   ],
   "source": [
    "normalized_data.plot(figsize = (10,5))"
   ]
  },
  {
   "cell_type": "code",
   "execution_count": 27,
   "metadata": {},
   "outputs": [
    {
     "data": {
      "text/html": [
       "<div>\n",
       "<style scoped>\n",
       "    .dataframe tbody tr th:only-of-type {\n",
       "        vertical-align: middle;\n",
       "    }\n",
       "\n",
       "    .dataframe tbody tr th {\n",
       "        vertical-align: top;\n",
       "    }\n",
       "\n",
       "    .dataframe thead th {\n",
       "        text-align: right;\n",
       "    }\n",
       "</style>\n",
       "<table border=\"1\" class=\"dataframe\">\n",
       "  <thead>\n",
       "    <tr style=\"text-align: right;\">\n",
       "      <th></th>\n",
       "      <th>BCE.TO</th>\n",
       "      <th>BPY-UN.TO</th>\n",
       "      <th>RY.TO</th>\n",
       "      <th>SU.TO</th>\n",
       "      <th>ENB.TO</th>\n",
       "    </tr>\n",
       "    <tr>\n",
       "      <th>Date</th>\n",
       "      <th></th>\n",
       "      <th></th>\n",
       "      <th></th>\n",
       "      <th></th>\n",
       "      <th></th>\n",
       "    </tr>\n",
       "  </thead>\n",
       "  <tbody>\n",
       "    <tr>\n",
       "      <th>2013-07-02</th>\n",
       "      <td>NaN</td>\n",
       "      <td>NaN</td>\n",
       "      <td>NaN</td>\n",
       "      <td>NaN</td>\n",
       "      <td>NaN</td>\n",
       "    </tr>\n",
       "    <tr>\n",
       "      <th>2013-07-03</th>\n",
       "      <td>-0.007702</td>\n",
       "      <td>-0.017119</td>\n",
       "      <td>-0.006256</td>\n",
       "      <td>-0.001283</td>\n",
       "      <td>-0.007829</td>\n",
       "    </tr>\n",
       "    <tr>\n",
       "      <th>2013-07-04</th>\n",
       "      <td>0.007237</td>\n",
       "      <td>0.018532</td>\n",
       "      <td>0.004449</td>\n",
       "      <td>-0.001928</td>\n",
       "      <td>0.001571</td>\n",
       "    </tr>\n",
       "    <tr>\n",
       "      <th>2013-07-05</th>\n",
       "      <td>-0.001863</td>\n",
       "      <td>0.012167</td>\n",
       "      <td>0.000822</td>\n",
       "      <td>0.000964</td>\n",
       "      <td>-0.007427</td>\n",
       "    </tr>\n",
       "    <tr>\n",
       "      <th>2013-07-08</th>\n",
       "      <td>0.006505</td>\n",
       "      <td>-0.008876</td>\n",
       "      <td>0.004753</td>\n",
       "      <td>0.014985</td>\n",
       "      <td>0.007651</td>\n",
       "    </tr>\n",
       "  </tbody>\n",
       "</table>\n",
       "</div>"
      ],
      "text/plain": [
       "              BCE.TO  BPY-UN.TO     RY.TO     SU.TO    ENB.TO\n",
       "Date                                                         \n",
       "2013-07-02       NaN        NaN       NaN       NaN       NaN\n",
       "2013-07-03 -0.007702  -0.017119 -0.006256 -0.001283 -0.007829\n",
       "2013-07-04  0.007237   0.018532  0.004449 -0.001928  0.001571\n",
       "2013-07-05 -0.001863   0.012167  0.000822  0.000964 -0.007427\n",
       "2013-07-08  0.006505  -0.008876  0.004753  0.014985  0.007651"
      ]
     },
     "execution_count": 27,
     "metadata": {},
     "output_type": "execute_result"
    }
   ],
   "source": [
    "# log returns\n",
    "log_returns = np.log(mystocks / mystocks.shift(1))\n",
    "log_returns.head()"
   ]
  },
  {
   "cell_type": "code",
   "execution_count": 28,
   "metadata": {},
   "outputs": [
    {
     "data": {
      "text/plain": [
       "BCE.TO       0.646932\n",
       "BPY-UN.TO    0.020116\n",
       "RY.TO        0.778657\n",
       "SU.TO       -0.138313\n",
       "ENB.TO       0.309903\n",
       "dtype: float64"
      ]
     },
     "execution_count": 28,
     "metadata": {},
     "output_type": "execute_result"
    }
   ],
   "source": [
    "log_returns.sum()"
   ]
  },
  {
   "cell_type": "code",
   "execution_count": 29,
   "metadata": {},
   "outputs": [
    {
     "name": "stdout",
     "output_type": "stream",
     "text": [
      "BCE.TO       0.090202\n",
      "BPY-UN.TO    0.002805\n",
      "RY.TO        0.108569\n",
      "SU.TO       -0.019285\n",
      "ENB.TO       0.043210\n",
      "dtype: float64\n",
      "             BCE.TO  BPY-UN.TO     RY.TO     SU.TO    ENB.TO\n",
      "BCE.TO     0.027113   0.022404  0.018244  0.023272  0.022677\n",
      "BPY-UN.TO  0.022404   0.084040  0.029000  0.040317  0.033946\n",
      "RY.TO      0.018244   0.029000  0.032542  0.034477  0.028169\n",
      "SU.TO      0.023272   0.040317  0.034477  0.105993  0.050813\n",
      "ENB.TO     0.022677   0.033946  0.028169  0.050813  0.071904\n"
     ]
    },
    {
     "data": {
      "text/html": [
       "<div>\n",
       "<style scoped>\n",
       "    .dataframe tbody tr th:only-of-type {\n",
       "        vertical-align: middle;\n",
       "    }\n",
       "\n",
       "    .dataframe tbody tr th {\n",
       "        vertical-align: top;\n",
       "    }\n",
       "\n",
       "    .dataframe thead th {\n",
       "        text-align: right;\n",
       "    }\n",
       "</style>\n",
       "<table border=\"1\" class=\"dataframe\">\n",
       "  <thead>\n",
       "    <tr style=\"text-align: right;\">\n",
       "      <th></th>\n",
       "      <th>BCE.TO</th>\n",
       "      <th>BPY-UN.TO</th>\n",
       "      <th>RY.TO</th>\n",
       "      <th>SU.TO</th>\n",
       "      <th>ENB.TO</th>\n",
       "    </tr>\n",
       "  </thead>\n",
       "  <tbody>\n",
       "    <tr>\n",
       "      <th>BCE.TO</th>\n",
       "      <td>1.000000</td>\n",
       "      <td>0.469336</td>\n",
       "      <td>0.614215</td>\n",
       "      <td>0.434121</td>\n",
       "      <td>0.513601</td>\n",
       "    </tr>\n",
       "    <tr>\n",
       "      <th>BPY-UN.TO</th>\n",
       "      <td>0.469336</td>\n",
       "      <td>1.000000</td>\n",
       "      <td>0.554542</td>\n",
       "      <td>0.427180</td>\n",
       "      <td>0.436689</td>\n",
       "    </tr>\n",
       "    <tr>\n",
       "      <th>RY.TO</th>\n",
       "      <td>0.614215</td>\n",
       "      <td>0.554542</td>\n",
       "      <td>1.000000</td>\n",
       "      <td>0.587043</td>\n",
       "      <td>0.582332</td>\n",
       "    </tr>\n",
       "    <tr>\n",
       "      <th>SU.TO</th>\n",
       "      <td>0.434121</td>\n",
       "      <td>0.427180</td>\n",
       "      <td>0.587043</td>\n",
       "      <td>1.000000</td>\n",
       "      <td>0.582053</td>\n",
       "    </tr>\n",
       "    <tr>\n",
       "      <th>ENB.TO</th>\n",
       "      <td>0.513601</td>\n",
       "      <td>0.436689</td>\n",
       "      <td>0.582332</td>\n",
       "      <td>0.582053</td>\n",
       "      <td>1.000000</td>\n",
       "    </tr>\n",
       "  </tbody>\n",
       "</table>\n",
       "</div>"
      ],
      "text/plain": [
       "             BCE.TO  BPY-UN.TO     RY.TO     SU.TO    ENB.TO\n",
       "BCE.TO     1.000000   0.469336  0.614215  0.434121  0.513601\n",
       "BPY-UN.TO  0.469336   1.000000  0.554542  0.427180  0.436689\n",
       "RY.TO      0.614215   0.554542  1.000000  0.587043  0.582332\n",
       "SU.TO      0.434121   0.427180  0.587043  1.000000  0.582053\n",
       "ENB.TO     0.513601   0.436689  0.582332  0.582053  1.000000"
      ]
     },
     "execution_count": 29,
     "metadata": {},
     "output_type": "execute_result"
    }
   ],
   "source": [
    "# get the annual returns\n",
    "print(log_returns.mean() * 250)\n",
    "\n",
    "# get the covariance\n",
    "print(log_returns.cov() * 250)\n",
    "\n",
    "# get the correlation matrices\n",
    "log_returns.corr()"
   ]
  },
  {
   "cell_type": "code",
   "execution_count": 30,
   "metadata": {},
   "outputs": [
    {
     "data": {
      "text/plain": [
       "5"
      ]
     },
     "execution_count": 30,
     "metadata": {},
     "output_type": "execute_result"
    }
   ],
   "source": [
    "num_companies = len(tickers)\n",
    "num_companies"
   ]
  },
  {
   "cell_type": "code",
   "execution_count": 31,
   "metadata": {},
   "outputs": [
    {
     "data": {
      "text/plain": [
       "array([0.2, 0.2, 0.2, 0.2, 0.2])"
      ]
     },
     "execution_count": 31,
     "metadata": {},
     "output_type": "execute_result"
    }
   ],
   "source": [
    "weights"
   ]
  },
  {
   "cell_type": "code",
   "execution_count": 32,
   "metadata": {},
   "outputs": [
    {
     "data": {
      "text/plain": [
       "array([0.38837775, 0.05674874, 0.28435661, 0.23920689, 0.03131001])"
      ]
     },
     "execution_count": 32,
     "metadata": {},
     "output_type": "execute_result"
    }
   ],
   "source": [
    "# make weights equal to one:\n",
    "weights = np.random.random(num_companies)\n",
    "# divide by the sum to make weights sum to 1\n",
    "weights /= np.sum(weights)\n",
    "weights"
   ]
  },
  {
   "cell_type": "code",
   "execution_count": 33,
   "metadata": {},
   "outputs": [
    {
     "data": {
      "text/plain": [
       "1.0000000000000002"
      ]
     },
     "execution_count": 33,
     "metadata": {},
     "output_type": "execute_result"
    }
   ],
   "source": [
    "# check if the sum of weight equates to 1\n",
    "sum(weights)"
   ]
  },
  {
   "cell_type": "code",
   "execution_count": 34,
   "metadata": {},
   "outputs": [
    {
     "data": {
      "text/plain": [
       "0.06280388197802819"
      ]
     },
     "execution_count": 34,
     "metadata": {},
     "output_type": "execute_result"
    }
   ],
   "source": [
    "# Expected Portfolio Return\n",
    "np.sum(weights * log_returns.mean() * 250)"
   ]
  },
  {
   "cell_type": "code",
   "execution_count": 35,
   "metadata": {},
   "outputs": [
    {
     "data": {
      "text/plain": [
       "BCE.TO       0.035033\n",
       "BPY-UN.TO    0.000159\n",
       "RY.TO        0.030872\n",
       "SU.TO       -0.004613\n",
       "ENB.TO       0.001353\n",
       "dtype: float64"
      ]
     },
     "execution_count": 35,
     "metadata": {},
     "output_type": "execute_result"
    }
   ],
   "source": [
    "weights*log_returns.mean() * 250"
   ]
  },
  {
   "cell_type": "code",
   "execution_count": 36,
   "metadata": {},
   "outputs": [
    {
     "data": {
      "text/plain": [
       "0.031123974099716258"
      ]
     },
     "execution_count": 36,
     "metadata": {},
     "output_type": "execute_result"
    }
   ],
   "source": [
    "# expected portfolio variance\n",
    "np.dot(weights.T,np.dot(log_returns.cov()*250,weights))"
   ]
  },
  {
   "cell_type": "code",
   "execution_count": 37,
   "metadata": {},
   "outputs": [
    {
     "data": {
      "text/plain": [
       "0.17641988011478824"
      ]
     },
     "execution_count": 37,
     "metadata": {},
     "output_type": "execute_result"
    }
   ],
   "source": [
    "# Expected portfolio volatility (standard deviation)\n",
    "np.sqrt(np.dot(weights.T,np.dot(log_returns.cov() * 250,weights)))"
   ]
  },
  {
   "cell_type": "code",
   "execution_count": 38,
   "metadata": {},
   "outputs": [
    {
     "data": {
      "text/plain": [
       "1.0"
      ]
     },
     "execution_count": 38,
     "metadata": {},
     "output_type": "execute_result"
    }
   ],
   "source": [
    "test = np.random.random(num_companies)\n",
    "sum(test / np.sum(test))"
   ]
  },
  {
   "cell_type": "code",
   "execution_count": 39,
   "metadata": {},
   "outputs": [],
   "source": [
    "portfolio_returns = []\n",
    "portfolio_volatilities = []\n",
    "portfolio_weights = []\n",
    "\n",
    "for x in range (1000):\n",
    "    weights = np.random.random(num_companies)\n",
    "    weights /= np.sum(weights)\n",
    "    portfolio_weights.append(weights)\n",
    "    portfolio_returns.append(np.sum(weights * log_returns.mean()) * 250)\n",
    "    portfolio_volatilities.append(np.sqrt(np.dot(weights.T,np.dot(log_returns.cov() * 250, weights))))\n",
    "\n",
    "\n",
    "    \n",
    "# change portfolio_returns and volatilities into numpy arrays\n",
    "# portfolio_returns,portfolio_volatilities"
   ]
  },
  {
   "cell_type": "code",
   "execution_count": 40,
   "metadata": {},
   "outputs": [
    {
     "data": {
      "text/plain": [
       "1000"
      ]
     },
     "execution_count": 40,
     "metadata": {},
     "output_type": "execute_result"
    }
   ],
   "source": [
    "len(portfolio_returns)"
   ]
  },
  {
   "cell_type": "code",
   "execution_count": 41,
   "metadata": {},
   "outputs": [],
   "source": [
    "portfolio_returns = np.array(portfolio_returns)\n",
    "portfolio_volatilities = np.array(portfolio_volatilities)"
   ]
  },
  {
   "cell_type": "code",
   "execution_count": 42,
   "metadata": {},
   "outputs": [
    {
     "data": {
      "text/plain": [
       "array([0.0235009 , 0.12163782, 0.47523086, 0.01598279, 0.36364763])"
      ]
     },
     "execution_count": 42,
     "metadata": {},
     "output_type": "execute_result"
    }
   ],
   "source": [
    "weights"
   ]
  },
  {
   "cell_type": "code",
   "execution_count": 43,
   "metadata": {},
   "outputs": [
    {
     "data": {
      "text/html": [
       "<div>\n",
       "<style scoped>\n",
       "    .dataframe tbody tr th:only-of-type {\n",
       "        vertical-align: middle;\n",
       "    }\n",
       "\n",
       "    .dataframe tbody tr th {\n",
       "        vertical-align: top;\n",
       "    }\n",
       "\n",
       "    .dataframe thead th {\n",
       "        text-align: right;\n",
       "    }\n",
       "</style>\n",
       "<table border=\"1\" class=\"dataframe\">\n",
       "  <thead>\n",
       "    <tr style=\"text-align: right;\">\n",
       "      <th></th>\n",
       "      <th>Return</th>\n",
       "      <th>Volatility</th>\n",
       "    </tr>\n",
       "  </thead>\n",
       "  <tbody>\n",
       "    <tr>\n",
       "      <th>0</th>\n",
       "      <td>0.046951</td>\n",
       "      <td>0.195076</td>\n",
       "    </tr>\n",
       "    <tr>\n",
       "      <th>1</th>\n",
       "      <td>0.010407</td>\n",
       "      <td>0.229518</td>\n",
       "    </tr>\n",
       "    <tr>\n",
       "      <th>2</th>\n",
       "      <td>0.036943</td>\n",
       "      <td>0.212943</td>\n",
       "    </tr>\n",
       "    <tr>\n",
       "      <th>3</th>\n",
       "      <td>0.048250</td>\n",
       "      <td>0.192368</td>\n",
       "    </tr>\n",
       "    <tr>\n",
       "      <th>4</th>\n",
       "      <td>0.055827</td>\n",
       "      <td>0.186123</td>\n",
       "    </tr>\n",
       "    <tr>\n",
       "      <th>...</th>\n",
       "      <td>...</td>\n",
       "      <td>...</td>\n",
       "    </tr>\n",
       "    <tr>\n",
       "      <th>995</th>\n",
       "      <td>0.019681</td>\n",
       "      <td>0.218285</td>\n",
       "    </tr>\n",
       "    <tr>\n",
       "      <th>996</th>\n",
       "      <td>0.058086</td>\n",
       "      <td>0.189328</td>\n",
       "    </tr>\n",
       "    <tr>\n",
       "      <th>997</th>\n",
       "      <td>0.069706</td>\n",
       "      <td>0.174079</td>\n",
       "    </tr>\n",
       "    <tr>\n",
       "      <th>998</th>\n",
       "      <td>0.050076</td>\n",
       "      <td>0.187408</td>\n",
       "    </tr>\n",
       "    <tr>\n",
       "      <th>999</th>\n",
       "      <td>0.069461</td>\n",
       "      <td>0.190911</td>\n",
       "    </tr>\n",
       "  </tbody>\n",
       "</table>\n",
       "<p>1000 rows × 2 columns</p>\n",
       "</div>"
      ],
      "text/plain": [
       "       Return  Volatility\n",
       "0    0.046951    0.195076\n",
       "1    0.010407    0.229518\n",
       "2    0.036943    0.212943\n",
       "3    0.048250    0.192368\n",
       "4    0.055827    0.186123\n",
       "..        ...         ...\n",
       "995  0.019681    0.218285\n",
       "996  0.058086    0.189328\n",
       "997  0.069706    0.174079\n",
       "998  0.050076    0.187408\n",
       "999  0.069461    0.190911\n",
       "\n",
       "[1000 rows x 2 columns]"
      ]
     },
     "execution_count": 43,
     "metadata": {},
     "output_type": "execute_result"
    }
   ],
   "source": [
    "# create a dataframe to store the values\n",
    "portfolio = pd.DataFrame({\"Return\":portfolio_returns,\n",
    "                         \"Volatility\": portfolio_volatilities})\n",
    "portfolio"
   ]
  },
  {
   "cell_type": "code",
   "execution_count": 44,
   "metadata": {},
   "outputs": [
    {
     "name": "stdout",
     "output_type": "stream",
     "text": [
      "0 BCE.TO\n",
      "1 BPY-UN.TO\n",
      "2 RY.TO\n",
      "3 SU.TO\n",
      "4 ENB.TO\n"
     ]
    }
   ],
   "source": [
    "# include the weightings of the stocks \n",
    "for counter, symbol in enumerate(mystocks.columns.tolist()):\n",
    "    print(counter,symbol)\n",
    "    portfolio[f\"{symbol} weight\"] = [w[counter] for w in portfolio_weights]"
   ]
  },
  {
   "cell_type": "code",
   "execution_count": 45,
   "metadata": {},
   "outputs": [
    {
     "data": {
      "text/html": [
       "<div>\n",
       "<style scoped>\n",
       "    .dataframe tbody tr th:only-of-type {\n",
       "        vertical-align: middle;\n",
       "    }\n",
       "\n",
       "    .dataframe tbody tr th {\n",
       "        vertical-align: top;\n",
       "    }\n",
       "\n",
       "    .dataframe thead th {\n",
       "        text-align: right;\n",
       "    }\n",
       "</style>\n",
       "<table border=\"1\" class=\"dataframe\">\n",
       "  <thead>\n",
       "    <tr style=\"text-align: right;\">\n",
       "      <th></th>\n",
       "      <th>Return</th>\n",
       "      <th>Volatility</th>\n",
       "      <th>BCE.TO weight</th>\n",
       "      <th>BPY-UN.TO weight</th>\n",
       "      <th>RY.TO weight</th>\n",
       "      <th>SU.TO weight</th>\n",
       "      <th>ENB.TO weight</th>\n",
       "    </tr>\n",
       "  </thead>\n",
       "  <tbody>\n",
       "    <tr>\n",
       "      <th>995</th>\n",
       "      <td>0.019681</td>\n",
       "      <td>0.218285</td>\n",
       "      <td>0.193261</td>\n",
       "      <td>0.335101</td>\n",
       "      <td>0.066409</td>\n",
       "      <td>0.374611</td>\n",
       "      <td>0.030619</td>\n",
       "    </tr>\n",
       "    <tr>\n",
       "      <th>996</th>\n",
       "      <td>0.058086</td>\n",
       "      <td>0.189328</td>\n",
       "      <td>0.066582</td>\n",
       "      <td>0.209389</td>\n",
       "      <td>0.450916</td>\n",
       "      <td>0.148234</td>\n",
       "      <td>0.124878</td>\n",
       "    </tr>\n",
       "    <tr>\n",
       "      <th>997</th>\n",
       "      <td>0.069706</td>\n",
       "      <td>0.174079</td>\n",
       "      <td>0.406163</td>\n",
       "      <td>0.076888</td>\n",
       "      <td>0.178916</td>\n",
       "      <td>0.018839</td>\n",
       "      <td>0.319195</td>\n",
       "    </tr>\n",
       "    <tr>\n",
       "      <th>998</th>\n",
       "      <td>0.050076</td>\n",
       "      <td>0.187408</td>\n",
       "      <td>0.315884</td>\n",
       "      <td>0.112950</td>\n",
       "      <td>0.218720</td>\n",
       "      <td>0.283376</td>\n",
       "      <td>0.069071</td>\n",
       "    </tr>\n",
       "    <tr>\n",
       "      <th>999</th>\n",
       "      <td>0.069461</td>\n",
       "      <td>0.190911</td>\n",
       "      <td>0.023501</td>\n",
       "      <td>0.121638</td>\n",
       "      <td>0.475231</td>\n",
       "      <td>0.015983</td>\n",
       "      <td>0.363648</td>\n",
       "    </tr>\n",
       "  </tbody>\n",
       "</table>\n",
       "</div>"
      ],
      "text/plain": [
       "       Return  Volatility  BCE.TO weight  BPY-UN.TO weight  RY.TO weight  \\\n",
       "995  0.019681    0.218285       0.193261          0.335101      0.066409   \n",
       "996  0.058086    0.189328       0.066582          0.209389      0.450916   \n",
       "997  0.069706    0.174079       0.406163          0.076888      0.178916   \n",
       "998  0.050076    0.187408       0.315884          0.112950      0.218720   \n",
       "999  0.069461    0.190911       0.023501          0.121638      0.475231   \n",
       "\n",
       "     SU.TO weight  ENB.TO weight  \n",
       "995      0.374611       0.030619  \n",
       "996      0.148234       0.124878  \n",
       "997      0.018839       0.319195  \n",
       "998      0.283376       0.069071  \n",
       "999      0.015983       0.363648  "
      ]
     },
     "execution_count": 45,
     "metadata": {},
     "output_type": "execute_result"
    }
   ],
   "source": [
    "portfolio.tail()"
   ]
  },
  {
   "cell_type": "code",
   "execution_count": 46,
   "metadata": {},
   "outputs": [
    {
     "data": {
      "text/html": [
       "<div>\n",
       "<style scoped>\n",
       "    .dataframe tbody tr th:only-of-type {\n",
       "        vertical-align: middle;\n",
       "    }\n",
       "\n",
       "    .dataframe tbody tr th {\n",
       "        vertical-align: top;\n",
       "    }\n",
       "\n",
       "    .dataframe thead th {\n",
       "        text-align: right;\n",
       "    }\n",
       "</style>\n",
       "<table border=\"1\" class=\"dataframe\">\n",
       "  <thead>\n",
       "    <tr style=\"text-align: right;\">\n",
       "      <th></th>\n",
       "      <th>Return</th>\n",
       "      <th>Volatility</th>\n",
       "      <th>BCE.TO weight</th>\n",
       "      <th>BPY-UN.TO weight</th>\n",
       "      <th>RY.TO weight</th>\n",
       "      <th>SU.TO weight</th>\n",
       "      <th>ENB.TO weight</th>\n",
       "    </tr>\n",
       "  </thead>\n",
       "  <tbody>\n",
       "    <tr>\n",
       "      <th>Return</th>\n",
       "      <td>1.000000</td>\n",
       "      <td>-0.907344</td>\n",
       "      <td>0.520966</td>\n",
       "      <td>-0.438691</td>\n",
       "      <td>0.629925</td>\n",
       "      <td>-0.653312</td>\n",
       "      <td>-0.095611</td>\n",
       "    </tr>\n",
       "    <tr>\n",
       "      <th>Volatility</th>\n",
       "      <td>-0.907344</td>\n",
       "      <td>1.000000</td>\n",
       "      <td>-0.719011</td>\n",
       "      <td>0.241498</td>\n",
       "      <td>-0.408387</td>\n",
       "      <td>0.667236</td>\n",
       "      <td>0.266563</td>\n",
       "    </tr>\n",
       "    <tr>\n",
       "      <th>BCE.TO weight</th>\n",
       "      <td>0.520966</td>\n",
       "      <td>-0.719011</td>\n",
       "      <td>1.000000</td>\n",
       "      <td>-0.230951</td>\n",
       "      <td>-0.212986</td>\n",
       "      <td>-0.318924</td>\n",
       "      <td>-0.302050</td>\n",
       "    </tr>\n",
       "    <tr>\n",
       "      <th>BPY-UN.TO weight</th>\n",
       "      <td>-0.438691</td>\n",
       "      <td>0.241498</td>\n",
       "      <td>-0.230951</td>\n",
       "      <td>1.000000</td>\n",
       "      <td>-0.280073</td>\n",
       "      <td>-0.245242</td>\n",
       "      <td>-0.227237</td>\n",
       "    </tr>\n",
       "    <tr>\n",
       "      <th>RY.TO weight</th>\n",
       "      <td>0.629925</td>\n",
       "      <td>-0.408387</td>\n",
       "      <td>-0.212986</td>\n",
       "      <td>-0.280073</td>\n",
       "      <td>1.000000</td>\n",
       "      <td>-0.212285</td>\n",
       "      <td>-0.275561</td>\n",
       "    </tr>\n",
       "    <tr>\n",
       "      <th>SU.TO weight</th>\n",
       "      <td>-0.653312</td>\n",
       "      <td>0.667236</td>\n",
       "      <td>-0.318924</td>\n",
       "      <td>-0.245242</td>\n",
       "      <td>-0.212285</td>\n",
       "      <td>1.000000</td>\n",
       "      <td>-0.192410</td>\n",
       "    </tr>\n",
       "    <tr>\n",
       "      <th>ENB.TO weight</th>\n",
       "      <td>-0.095611</td>\n",
       "      <td>0.266563</td>\n",
       "      <td>-0.302050</td>\n",
       "      <td>-0.227237</td>\n",
       "      <td>-0.275561</td>\n",
       "      <td>-0.192410</td>\n",
       "      <td>1.000000</td>\n",
       "    </tr>\n",
       "  </tbody>\n",
       "</table>\n",
       "</div>"
      ],
      "text/plain": [
       "                    Return  Volatility  BCE.TO weight  BPY-UN.TO weight  \\\n",
       "Return            1.000000   -0.907344       0.520966         -0.438691   \n",
       "Volatility       -0.907344    1.000000      -0.719011          0.241498   \n",
       "BCE.TO weight     0.520966   -0.719011       1.000000         -0.230951   \n",
       "BPY-UN.TO weight -0.438691    0.241498      -0.230951          1.000000   \n",
       "RY.TO weight      0.629925   -0.408387      -0.212986         -0.280073   \n",
       "SU.TO weight     -0.653312    0.667236      -0.318924         -0.245242   \n",
       "ENB.TO weight    -0.095611    0.266563      -0.302050         -0.227237   \n",
       "\n",
       "                  RY.TO weight  SU.TO weight  ENB.TO weight  \n",
       "Return                0.629925     -0.653312      -0.095611  \n",
       "Volatility           -0.408387      0.667236       0.266563  \n",
       "BCE.TO weight        -0.212986     -0.318924      -0.302050  \n",
       "BPY-UN.TO weight     -0.280073     -0.245242      -0.227237  \n",
       "RY.TO weight          1.000000     -0.212285      -0.275561  \n",
       "SU.TO weight         -0.212285      1.000000      -0.192410  \n",
       "ENB.TO weight        -0.275561     -0.192410       1.000000  "
      ]
     },
     "execution_count": 46,
     "metadata": {},
     "output_type": "execute_result"
    }
   ],
   "source": [
    "portfolio.corr()"
   ]
  },
  {
   "cell_type": "code",
   "execution_count": null,
   "metadata": {},
   "outputs": [],
   "source": []
  },
  {
   "cell_type": "code",
   "execution_count": 47,
   "metadata": {},
   "outputs": [
    {
     "data": {
      "text/plain": [
       "<matplotlib.axes._subplots.AxesSubplot at 0x23ec8328f08>"
      ]
     },
     "execution_count": 47,
     "metadata": {},
     "output_type": "execute_result"
    },
    {
     "data": {
      "image/png": "[encoded data removed]",
      "text/plain": [
       "<Figure size 1080x720 with 1 Axes>"
      ]
     },
     "metadata": {
      "needs_background": "light"
     },
     "output_type": "display_data"
    }
   ],
   "source": [
    "portfolio.plot(x='Volatility', y='Return', kind = \"scatter\", figsize=(15,10))"
   ]
  },
  {
   "cell_type": "code",
   "execution_count": null,
   "metadata": {},
   "outputs": [],
   "source": []
  },
  {
   "cell_type": "markdown",
   "metadata": {},
   "source": [
    "### Calculating the Beta of a stock\n",
    "\n",
    "Using data from the past 5 years"
   ]
  },
  {
   "cell_type": "code",
   "execution_count": 48,
   "metadata": {},
   "outputs": [],
   "source": [
    "tickers.append(\"^GSPC\")\n"
   ]
  },
  {
   "cell_type": "code",
   "execution_count": 49,
   "metadata": {},
   "outputs": [
    {
     "data": {
      "text/plain": [
       "['BCE.TO', 'BPY-UN.TO', 'RY.TO', 'SU.TO', 'ENB.TO', '^GSPC']"
      ]
     },
     "execution_count": 49,
     "metadata": {},
     "output_type": "execute_result"
    }
   ],
   "source": [
    "tickers"
   ]
  },
  {
   "cell_type": "code",
   "execution_count": 50,
   "metadata": {},
   "outputs": [],
   "source": [
    "data = pd.DataFrame()\n",
    "for a in tickers:\n",
    "    data[a] = wb.DataReader(a, data_source='yahoo',start=\"2015-1-1\")['Adj Close']"
   ]
  },
  {
   "cell_type": "code",
   "execution_count": 51,
   "metadata": {},
   "outputs": [
    {
     "data": {
      "text/html": [
       "<div>\n",
       "<style scoped>\n",
       "    .dataframe tbody tr th:only-of-type {\n",
       "        vertical-align: middle;\n",
       "    }\n",
       "\n",
       "    .dataframe tbody tr th {\n",
       "        vertical-align: top;\n",
       "    }\n",
       "\n",
       "    .dataframe thead th {\n",
       "        text-align: right;\n",
       "    }\n",
       "</style>\n",
       "<table border=\"1\" class=\"dataframe\">\n",
       "  <thead>\n",
       "    <tr style=\"text-align: right;\">\n",
       "      <th></th>\n",
       "      <th>BCE.TO</th>\n",
       "      <th>BPY-UN.TO</th>\n",
       "      <th>RY.TO</th>\n",
       "      <th>SU.TO</th>\n",
       "      <th>ENB.TO</th>\n",
       "      <th>^GSPC</th>\n",
       "    </tr>\n",
       "    <tr>\n",
       "      <th>Date</th>\n",
       "      <th></th>\n",
       "      <th></th>\n",
       "      <th></th>\n",
       "      <th></th>\n",
       "      <th></th>\n",
       "      <th></th>\n",
       "    </tr>\n",
       "  </thead>\n",
       "  <tbody>\n",
       "    <tr>\n",
       "      <th>2015-01-02</th>\n",
       "      <td>40.627022</td>\n",
       "      <td>21.182819</td>\n",
       "      <td>63.627190</td>\n",
       "      <td>30.995632</td>\n",
       "      <td>44.727566</td>\n",
       "      <td>2058.199951</td>\n",
       "    </tr>\n",
       "    <tr>\n",
       "      <th>2015-01-05</th>\n",
       "      <td>40.165615</td>\n",
       "      <td>21.284811</td>\n",
       "      <td>62.192207</td>\n",
       "      <td>29.642946</td>\n",
       "      <td>42.967751</td>\n",
       "      <td>2020.579956</td>\n",
       "    </tr>\n",
       "    <tr>\n",
       "      <th>2015-01-06</th>\n",
       "      <td>40.460621</td>\n",
       "      <td>21.284811</td>\n",
       "      <td>61.750690</td>\n",
       "      <td>29.236307</td>\n",
       "      <td>41.414959</td>\n",
       "      <td>2002.609985</td>\n",
       "    </tr>\n",
       "    <tr>\n",
       "      <th>2015-01-07</th>\n",
       "      <td>41.148949</td>\n",
       "      <td>21.630011</td>\n",
       "      <td>61.774330</td>\n",
       "      <td>29.277809</td>\n",
       "      <td>41.052643</td>\n",
       "      <td>2025.900024</td>\n",
       "    </tr>\n",
       "    <tr>\n",
       "      <th>2015-01-08</th>\n",
       "      <td>41.459087</td>\n",
       "      <td>21.724163</td>\n",
       "      <td>62.152786</td>\n",
       "      <td>29.858709</td>\n",
       "      <td>41.511086</td>\n",
       "      <td>2062.139893</td>\n",
       "    </tr>\n",
       "  </tbody>\n",
       "</table>\n",
       "</div>"
      ],
      "text/plain": [
       "               BCE.TO  BPY-UN.TO      RY.TO      SU.TO     ENB.TO        ^GSPC\n",
       "Date                                                                          \n",
       "2015-01-02  40.627022  21.182819  63.627190  30.995632  44.727566  2058.199951\n",
       "2015-01-05  40.165615  21.284811  62.192207  29.642946  42.967751  2020.579956\n",
       "2015-01-06  40.460621  21.284811  61.750690  29.236307  41.414959  2002.609985\n",
       "2015-01-07  41.148949  21.630011  61.774330  29.277809  41.052643  2025.900024\n",
       "2015-01-08  41.459087  21.724163  62.152786  29.858709  41.511086  2062.139893"
      ]
     },
     "execution_count": 51,
     "metadata": {},
     "output_type": "execute_result"
    }
   ],
   "source": [
    "data.head()"
   ]
  },
  {
   "cell_type": "code",
   "execution_count": 52,
   "metadata": {},
   "outputs": [],
   "source": [
    "log_returns = np.log(data / data.shift(1))"
   ]
  },
  {
   "cell_type": "code",
   "execution_count": 53,
   "metadata": {},
   "outputs": [
    {
     "data": {
      "text/html": [
       "<div>\n",
       "<style scoped>\n",
       "    .dataframe tbody tr th:only-of-type {\n",
       "        vertical-align: middle;\n",
       "    }\n",
       "\n",
       "    .dataframe tbody tr th {\n",
       "        vertical-align: top;\n",
       "    }\n",
       "\n",
       "    .dataframe thead th {\n",
       "        text-align: right;\n",
       "    }\n",
       "</style>\n",
       "<table border=\"1\" class=\"dataframe\">\n",
       "  <thead>\n",
       "    <tr style=\"text-align: right;\">\n",
       "      <th></th>\n",
       "      <th>BCE.TO</th>\n",
       "      <th>BPY-UN.TO</th>\n",
       "      <th>RY.TO</th>\n",
       "      <th>SU.TO</th>\n",
       "      <th>ENB.TO</th>\n",
       "      <th>^GSPC</th>\n",
       "    </tr>\n",
       "    <tr>\n",
       "      <th>Date</th>\n",
       "      <th></th>\n",
       "      <th></th>\n",
       "      <th></th>\n",
       "      <th></th>\n",
       "      <th></th>\n",
       "      <th></th>\n",
       "    </tr>\n",
       "  </thead>\n",
       "  <tbody>\n",
       "    <tr>\n",
       "      <th>2015-01-02</th>\n",
       "      <td>NaN</td>\n",
       "      <td>NaN</td>\n",
       "      <td>NaN</td>\n",
       "      <td>NaN</td>\n",
       "      <td>NaN</td>\n",
       "      <td>NaN</td>\n",
       "    </tr>\n",
       "    <tr>\n",
       "      <th>2015-01-05</th>\n",
       "      <td>-0.011422</td>\n",
       "      <td>0.004803</td>\n",
       "      <td>-0.022811</td>\n",
       "      <td>-0.044622</td>\n",
       "      <td>-0.040140</td>\n",
       "      <td>-0.018447</td>\n",
       "    </tr>\n",
       "    <tr>\n",
       "      <th>2015-01-06</th>\n",
       "      <td>0.007318</td>\n",
       "      <td>0.000000</td>\n",
       "      <td>-0.007125</td>\n",
       "      <td>-0.013813</td>\n",
       "      <td>-0.036808</td>\n",
       "      <td>-0.008933</td>\n",
       "    </tr>\n",
       "    <tr>\n",
       "      <th>2015-01-07</th>\n",
       "      <td>0.016869</td>\n",
       "      <td>0.016088</td>\n",
       "      <td>0.000383</td>\n",
       "      <td>0.001419</td>\n",
       "      <td>-0.008787</td>\n",
       "      <td>0.011563</td>\n",
       "    </tr>\n",
       "    <tr>\n",
       "      <th>2015-01-08</th>\n",
       "      <td>0.007509</td>\n",
       "      <td>0.004343</td>\n",
       "      <td>0.006108</td>\n",
       "      <td>0.019647</td>\n",
       "      <td>0.011105</td>\n",
       "      <td>0.017730</td>\n",
       "    </tr>\n",
       "    <tr>\n",
       "      <th>...</th>\n",
       "      <td>...</td>\n",
       "      <td>...</td>\n",
       "      <td>...</td>\n",
       "      <td>...</td>\n",
       "      <td>...</td>\n",
       "      <td>...</td>\n",
       "    </tr>\n",
       "    <tr>\n",
       "      <th>2020-08-18</th>\n",
       "      <td>0.008293</td>\n",
       "      <td>-0.009503</td>\n",
       "      <td>0.002263</td>\n",
       "      <td>-0.014808</td>\n",
       "      <td>-0.000230</td>\n",
       "      <td>0.002301</td>\n",
       "    </tr>\n",
       "    <tr>\n",
       "      <th>2020-08-19</th>\n",
       "      <td>0.002632</td>\n",
       "      <td>-0.001911</td>\n",
       "      <td>0.003795</td>\n",
       "      <td>-0.011366</td>\n",
       "      <td>-0.002075</td>\n",
       "      <td>-0.004414</td>\n",
       "    </tr>\n",
       "    <tr>\n",
       "      <th>2020-08-20</th>\n",
       "      <td>0.003150</td>\n",
       "      <td>0.000000</td>\n",
       "      <td>0.002352</td>\n",
       "      <td>-0.019391</td>\n",
       "      <td>-0.002311</td>\n",
       "      <td>0.003154</td>\n",
       "    </tr>\n",
       "    <tr>\n",
       "      <th>2020-08-21</th>\n",
       "      <td>0.005575</td>\n",
       "      <td>-0.001915</td>\n",
       "      <td>0.000000</td>\n",
       "      <td>-0.026454</td>\n",
       "      <td>0.000463</td>\n",
       "      <td>0.003435</td>\n",
       "    </tr>\n",
       "    <tr>\n",
       "      <th>2020-08-24</th>\n",
       "      <td>0.000695</td>\n",
       "      <td>0.013960</td>\n",
       "      <td>0.009958</td>\n",
       "      <td>0.038963</td>\n",
       "      <td>0.003693</td>\n",
       "      <td>0.007063</td>\n",
       "    </tr>\n",
       "  </tbody>\n",
       "</table>\n",
       "<p>1417 rows × 6 columns</p>\n",
       "</div>"
      ],
      "text/plain": [
       "              BCE.TO  BPY-UN.TO     RY.TO     SU.TO    ENB.TO     ^GSPC\n",
       "Date                                                                   \n",
       "2015-01-02       NaN        NaN       NaN       NaN       NaN       NaN\n",
       "2015-01-05 -0.011422   0.004803 -0.022811 -0.044622 -0.040140 -0.018447\n",
       "2015-01-06  0.007318   0.000000 -0.007125 -0.013813 -0.036808 -0.008933\n",
       "2015-01-07  0.016869   0.016088  0.000383  0.001419 -0.008787  0.011563\n",
       "2015-01-08  0.007509   0.004343  0.006108  0.019647  0.011105  0.017730\n",
       "...              ...        ...       ...       ...       ...       ...\n",
       "2020-08-18  0.008293  -0.009503  0.002263 -0.014808 -0.000230  0.002301\n",
       "2020-08-19  0.002632  -0.001911  0.003795 -0.011366 -0.002075 -0.004414\n",
       "2020-08-20  0.003150   0.000000  0.002352 -0.019391 -0.002311  0.003154\n",
       "2020-08-21  0.005575  -0.001915  0.000000 -0.026454  0.000463  0.003435\n",
       "2020-08-24  0.000695   0.013960  0.009958  0.038963  0.003693  0.007063\n",
       "\n",
       "[1417 rows x 6 columns]"
      ]
     },
     "execution_count": 53,
     "metadata": {},
     "output_type": "execute_result"
    }
   ],
   "source": [
    "log_returns"
   ]
  },
  {
   "cell_type": "markdown",
   "metadata": {},
   "source": [
    "I need the covaraince between each companies and the SP500 which is used to represent the overall market performance\n",
    "\n",
    "I also need the variance of the SP500"
   ]
  },
  {
   "cell_type": "code",
   "execution_count": 54,
   "metadata": {},
   "outputs": [
    {
     "data": {
      "text/html": [
       "<div>\n",
       "<style scoped>\n",
       "    .dataframe tbody tr th:only-of-type {\n",
       "        vertical-align: middle;\n",
       "    }\n",
       "\n",
       "    .dataframe tbody tr th {\n",
       "        vertical-align: top;\n",
       "    }\n",
       "\n",
       "    .dataframe thead th {\n",
       "        text-align: right;\n",
       "    }\n",
       "</style>\n",
       "<table border=\"1\" class=\"dataframe\">\n",
       "  <thead>\n",
       "    <tr style=\"text-align: right;\">\n",
       "      <th></th>\n",
       "      <th>BCE.TO</th>\n",
       "      <th>BPY-UN.TO</th>\n",
       "      <th>RY.TO</th>\n",
       "      <th>SU.TO</th>\n",
       "      <th>ENB.TO</th>\n",
       "      <th>^GSPC</th>\n",
       "    </tr>\n",
       "  </thead>\n",
       "  <tbody>\n",
       "    <tr>\n",
       "      <th>BCE.TO</th>\n",
       "      <td>0.031253</td>\n",
       "      <td>0.027137</td>\n",
       "      <td>0.022033</td>\n",
       "      <td>0.028170</td>\n",
       "      <td>0.028290</td>\n",
       "      <td>0.019969</td>\n",
       "    </tr>\n",
       "    <tr>\n",
       "      <th>BPY-UN.TO</th>\n",
       "      <td>0.027137</td>\n",
       "      <td>0.099757</td>\n",
       "      <td>0.035541</td>\n",
       "      <td>0.049735</td>\n",
       "      <td>0.041421</td>\n",
       "      <td>0.033597</td>\n",
       "    </tr>\n",
       "    <tr>\n",
       "      <th>RY.TO</th>\n",
       "      <td>0.022033</td>\n",
       "      <td>0.035541</td>\n",
       "      <td>0.038389</td>\n",
       "      <td>0.041415</td>\n",
       "      <td>0.034614</td>\n",
       "      <td>0.027232</td>\n",
       "    </tr>\n",
       "    <tr>\n",
       "      <th>SU.TO</th>\n",
       "      <td>0.028170</td>\n",
       "      <td>0.049735</td>\n",
       "      <td>0.041415</td>\n",
       "      <td>0.120684</td>\n",
       "      <td>0.061687</td>\n",
       "      <td>0.037025</td>\n",
       "    </tr>\n",
       "    <tr>\n",
       "      <th>ENB.TO</th>\n",
       "      <td>0.028290</td>\n",
       "      <td>0.041421</td>\n",
       "      <td>0.034614</td>\n",
       "      <td>0.061687</td>\n",
       "      <td>0.083364</td>\n",
       "      <td>0.033084</td>\n",
       "    </tr>\n",
       "    <tr>\n",
       "      <th>^GSPC</th>\n",
       "      <td>0.019969</td>\n",
       "      <td>0.033597</td>\n",
       "      <td>0.027232</td>\n",
       "      <td>0.037025</td>\n",
       "      <td>0.033084</td>\n",
       "      <td>0.035948</td>\n",
       "    </tr>\n",
       "  </tbody>\n",
       "</table>\n",
       "</div>"
      ],
      "text/plain": [
       "             BCE.TO  BPY-UN.TO     RY.TO     SU.TO    ENB.TO     ^GSPC\n",
       "BCE.TO     0.031253   0.027137  0.022033  0.028170  0.028290  0.019969\n",
       "BPY-UN.TO  0.027137   0.099757  0.035541  0.049735  0.041421  0.033597\n",
       "RY.TO      0.022033   0.035541  0.038389  0.041415  0.034614  0.027232\n",
       "SU.TO      0.028170   0.049735  0.041415  0.120684  0.061687  0.037025\n",
       "ENB.TO     0.028290   0.041421  0.034614  0.061687  0.083364  0.033084\n",
       "^GSPC      0.019969   0.033597  0.027232  0.037025  0.033084  0.035948"
      ]
     },
     "execution_count": 54,
     "metadata": {},
     "output_type": "execute_result"
    }
   ],
   "source": [
    "# annualized covariance matrix\n",
    "cov = log_returns.cov() * 250\n",
    "cov"
   ]
  },
  {
   "cell_type": "code",
   "execution_count": 55,
   "metadata": {},
   "outputs": [
    {
     "data": {
      "text/plain": [
       "6"
      ]
     },
     "execution_count": 55,
     "metadata": {},
     "output_type": "execute_result"
    }
   ],
   "source": [
    "len(cov)"
   ]
  },
  {
   "cell_type": "code",
   "execution_count": 56,
   "metadata": {},
   "outputs": [],
   "source": [
    "# find the covariance between the stocks and the market\n",
    "# select the GSPC column\n",
    "cov_wmarket = cov.loc[cov.index[0:len(cov)-1],\"^GSPC\"]"
   ]
  },
  {
   "cell_type": "code",
   "execution_count": 57,
   "metadata": {},
   "outputs": [
    {
     "data": {
      "text/plain": [
       "BCE.TO       0.019969\n",
       "BPY-UN.TO    0.033597\n",
       "RY.TO        0.027232\n",
       "SU.TO        0.037025\n",
       "ENB.TO       0.033084\n",
       "Name: ^GSPC, dtype: float64"
      ]
     },
     "execution_count": 57,
     "metadata": {},
     "output_type": "execute_result"
    }
   ],
   "source": [
    "cov_wmarket"
   ]
  },
  {
   "cell_type": "code",
   "execution_count": 58,
   "metadata": {},
   "outputs": [
    {
     "data": {
      "text/plain": [
       "0.03594784650896748"
      ]
     },
     "execution_count": 58,
     "metadata": {},
     "output_type": "execute_result"
    }
   ],
   "source": [
    "\n",
    "# nominator\n",
    "market_variance = log_returns['^GSPC'].var() * 250\n",
    "market_variance"
   ]
  },
  {
   "cell_type": "markdown",
   "metadata": {},
   "source": [
    "Beta = (covariance between the stock and the market) / (varaince of the market)"
   ]
  },
  {
   "cell_type": "code",
   "execution_count": 59,
   "metadata": {},
   "outputs": [
    {
     "data": {
      "text/plain": [
       "BCE.TO       0.019969\n",
       "BPY-UN.TO    0.033597\n",
       "RY.TO        0.027232\n",
       "SU.TO        0.037025\n",
       "ENB.TO       0.033084\n",
       "Name: ^GSPC, dtype: float64"
      ]
     },
     "execution_count": 59,
     "metadata": {},
     "output_type": "execute_result"
    }
   ],
   "source": [
    "tickers\n",
    "cov_wmarket"
   ]
  },
  {
   "cell_type": "code",
   "execution_count": 60,
   "metadata": {},
   "outputs": [
    {
     "data": {
      "text/plain": [
       "0.9203357825332271"
      ]
     },
     "execution_count": 60,
     "metadata": {},
     "output_type": "execute_result"
    }
   ],
   "source": [
    "BCE_beta = cov_wmarket[\"ENB.TO\"] / market_variance\n",
    "BCE_beta"
   ]
  },
  {
   "cell_type": "code",
   "execution_count": 61,
   "metadata": {},
   "outputs": [
    {
     "data": {
      "text/plain": [
       "0.03594784650896748"
      ]
     },
     "execution_count": 61,
     "metadata": {},
     "output_type": "execute_result"
    }
   ],
   "source": [
    "market_variance"
   ]
  },
  {
   "cell_type": "code",
   "execution_count": 62,
   "metadata": {},
   "outputs": [],
   "source": [
    "\n",
    "# create dictionary to store values\n",
    "beta_dict = {}\n",
    "for m in cov_wmarket.index:\n",
    "    beta_list = []\n",
    "    beta_list.append(cov_wmarket[m] / market_variance)\n",
    "    beta_dict[m + \"_beta\"] = beta_list"
   ]
  },
  {
   "cell_type": "code",
   "execution_count": 63,
   "metadata": {},
   "outputs": [
    {
     "data": {
      "text/plain": [
       "{'BCE.TO_beta': [0.5555000194564331],\n",
       " 'BPY-UN.TO_beta': [0.9345943812217754],\n",
       " 'RY.TO_beta': [0.7575455570206711],\n",
       " 'SU.TO_beta': [1.0299631193661465],\n",
       " 'ENB.TO_beta': [0.9203357825332271]}"
      ]
     },
     "execution_count": 63,
     "metadata": {},
     "output_type": "execute_result"
    }
   ],
   "source": [
    "beta_dict"
   ]
  },
  {
   "cell_type": "code",
   "execution_count": 64,
   "metadata": {},
   "outputs": [],
   "source": [
    "# put the dictionary of betas in a dataframe for easier manipulation\n",
    "beta_df = pd.DataFrame(beta_dict)\n",
    "beta_df = beta_df.transpose()\n",
    "beta_df.rename(columns={0:\"beta\"},inplace=True)"
   ]
  },
  {
   "cell_type": "code",
   "execution_count": 65,
   "metadata": {},
   "outputs": [
    {
     "data": {
      "text/html": [
       "<div>\n",
       "<style scoped>\n",
       "    .dataframe tbody tr th:only-of-type {\n",
       "        vertical-align: middle;\n",
       "    }\n",
       "\n",
       "    .dataframe tbody tr th {\n",
       "        vertical-align: top;\n",
       "    }\n",
       "\n",
       "    .dataframe thead th {\n",
       "        text-align: right;\n",
       "    }\n",
       "</style>\n",
       "<table border=\"1\" class=\"dataframe\">\n",
       "  <thead>\n",
       "    <tr style=\"text-align: right;\">\n",
       "      <th></th>\n",
       "      <th>beta</th>\n",
       "    </tr>\n",
       "  </thead>\n",
       "  <tbody>\n",
       "    <tr>\n",
       "      <th>BCE.TO_beta</th>\n",
       "      <td>0.555500</td>\n",
       "    </tr>\n",
       "    <tr>\n",
       "      <th>BPY-UN.TO_beta</th>\n",
       "      <td>0.934594</td>\n",
       "    </tr>\n",
       "    <tr>\n",
       "      <th>RY.TO_beta</th>\n",
       "      <td>0.757546</td>\n",
       "    </tr>\n",
       "    <tr>\n",
       "      <th>SU.TO_beta</th>\n",
       "      <td>1.029963</td>\n",
       "    </tr>\n",
       "    <tr>\n",
       "      <th>ENB.TO_beta</th>\n",
       "      <td>0.920336</td>\n",
       "    </tr>\n",
       "  </tbody>\n",
       "</table>\n",
       "</div>"
      ],
      "text/plain": [
       "                    beta\n",
       "BCE.TO_beta     0.555500\n",
       "BPY-UN.TO_beta  0.934594\n",
       "RY.TO_beta      0.757546\n",
       "SU.TO_beta      1.029963\n",
       "ENB.TO_beta     0.920336"
      ]
     },
     "execution_count": 65,
     "metadata": {},
     "output_type": "execute_result"
    }
   ],
   "source": [
    "beta_df"
   ]
  },
  {
   "cell_type": "markdown",
   "metadata": {},
   "source": [
    "### Applying CAPM\n",
    "\n",
    "To calculate the CAPM, I will need to calculate:\n",
    "* risk-free rate \n",
    "    * I will be using the yield of the 10 year government bond because it's concluded by academics to be the closest to risk free\n",
    "    * the rate is obtained from the bloomberg website\n",
    "    <a href = \"https:www.bloomberg.com/markets/rates-bonds/government-bonds/us\" target = \"_blank\">Bloomberg Website</a>\n",
    "* Beta : calculated earlier\n",
    "* Equity Risk Premium\n",
    "    * can be calculate by subtracting the risk-free rate from the expected market return. it's the compensation to expect when buying the portfolio\n",
    "    * usually between 4.5% to 5.5% so I will use 5% in my analysis"
   ]
  },
  {
   "cell_type": "code",
   "execution_count": 66,
   "metadata": {},
   "outputs": [
    {
     "data": {
      "text/plain": [
       "0.05277500097282166"
      ]
     },
     "execution_count": 66,
     "metadata": {},
     "output_type": "execute_result"
    }
   ],
   "source": [
    "BCE_er = 0.025 + beta_df.loc[\"BCE.TO_beta\"]['beta'] * 0.05\n",
    "BCE_er"
   ]
  },
  {
   "cell_type": "code",
   "execution_count": 67,
   "metadata": {},
   "outputs": [
    {
     "data": {
      "text/plain": [
       "0.027775000972821658"
      ]
     },
     "execution_count": 67,
     "metadata": {},
     "output_type": "execute_result"
    }
   ],
   "source": [
    "beta_df.loc[\"BCE.TO_beta\"]['beta'] * 0.05"
   ]
  },
  {
   "cell_type": "code",
   "execution_count": 68,
   "metadata": {},
   "outputs": [
    {
     "data": {
      "text/html": [
       "<div>\n",
       "<style scoped>\n",
       "    .dataframe tbody tr th:only-of-type {\n",
       "        vertical-align: middle;\n",
       "    }\n",
       "\n",
       "    .dataframe tbody tr th {\n",
       "        vertical-align: top;\n",
       "    }\n",
       "\n",
       "    .dataframe thead th {\n",
       "        text-align: right;\n",
       "    }\n",
       "</style>\n",
       "<table border=\"1\" class=\"dataframe\">\n",
       "  <thead>\n",
       "    <tr style=\"text-align: right;\">\n",
       "      <th></th>\n",
       "      <th>beta</th>\n",
       "    </tr>\n",
       "  </thead>\n",
       "  <tbody>\n",
       "    <tr>\n",
       "      <th>BCE.TO_beta</th>\n",
       "      <td>0.555500</td>\n",
       "    </tr>\n",
       "    <tr>\n",
       "      <th>BPY-UN.TO_beta</th>\n",
       "      <td>0.934594</td>\n",
       "    </tr>\n",
       "    <tr>\n",
       "      <th>RY.TO_beta</th>\n",
       "      <td>0.757546</td>\n",
       "    </tr>\n",
       "    <tr>\n",
       "      <th>SU.TO_beta</th>\n",
       "      <td>1.029963</td>\n",
       "    </tr>\n",
       "    <tr>\n",
       "      <th>ENB.TO_beta</th>\n",
       "      <td>0.920336</td>\n",
       "    </tr>\n",
       "  </tbody>\n",
       "</table>\n",
       "</div>"
      ],
      "text/plain": [
       "                    beta\n",
       "BCE.TO_beta     0.555500\n",
       "BPY-UN.TO_beta  0.934594\n",
       "RY.TO_beta      0.757546\n",
       "SU.TO_beta      1.029963\n",
       "ENB.TO_beta     0.920336"
      ]
     },
     "execution_count": 68,
     "metadata": {},
     "output_type": "execute_result"
    }
   ],
   "source": [
    "beta_df"
   ]
  },
  {
   "cell_type": "code",
   "execution_count": 69,
   "metadata": {},
   "outputs": [],
   "source": [
    "beta_df['expected_return'] = 0.025 + beta_df*0.05"
   ]
  },
  {
   "cell_type": "code",
   "execution_count": 70,
   "metadata": {},
   "outputs": [
    {
     "data": {
      "text/plain": [
       "0.05277500097282166"
      ]
     },
     "execution_count": 70,
     "metadata": {},
     "output_type": "execute_result"
    }
   ],
   "source": [
    "beta_df['expected_return']['BCE.TO_beta']"
   ]
  },
  {
   "cell_type": "markdown",
   "metadata": {},
   "source": [
    "### Sharpe Ratio"
   ]
  },
  {
   "cell_type": "code",
   "execution_count": 71,
   "metadata": {},
   "outputs": [
    {
     "data": {
      "text/html": [
       "<div>\n",
       "<style scoped>\n",
       "    .dataframe tbody tr th:only-of-type {\n",
       "        vertical-align: middle;\n",
       "    }\n",
       "\n",
       "    .dataframe tbody tr th {\n",
       "        vertical-align: top;\n",
       "    }\n",
       "\n",
       "    .dataframe thead th {\n",
       "        text-align: right;\n",
       "    }\n",
       "</style>\n",
       "<table border=\"1\" class=\"dataframe\">\n",
       "  <thead>\n",
       "    <tr style=\"text-align: right;\">\n",
       "      <th></th>\n",
       "      <th>BCE.TO</th>\n",
       "      <th>BPY-UN.TO</th>\n",
       "      <th>RY.TO</th>\n",
       "      <th>SU.TO</th>\n",
       "      <th>ENB.TO</th>\n",
       "      <th>^GSPC</th>\n",
       "    </tr>\n",
       "    <tr>\n",
       "      <th>Date</th>\n",
       "      <th></th>\n",
       "      <th></th>\n",
       "      <th></th>\n",
       "      <th></th>\n",
       "      <th></th>\n",
       "      <th></th>\n",
       "    </tr>\n",
       "  </thead>\n",
       "  <tbody>\n",
       "    <tr>\n",
       "      <th>2015-01-02</th>\n",
       "      <td>NaN</td>\n",
       "      <td>NaN</td>\n",
       "      <td>NaN</td>\n",
       "      <td>NaN</td>\n",
       "      <td>NaN</td>\n",
       "      <td>NaN</td>\n",
       "    </tr>\n",
       "    <tr>\n",
       "      <th>2015-01-05</th>\n",
       "      <td>-0.011422</td>\n",
       "      <td>0.004803</td>\n",
       "      <td>-0.022811</td>\n",
       "      <td>-0.044622</td>\n",
       "      <td>-0.040140</td>\n",
       "      <td>-0.018447</td>\n",
       "    </tr>\n",
       "    <tr>\n",
       "      <th>2015-01-06</th>\n",
       "      <td>0.007318</td>\n",
       "      <td>0.000000</td>\n",
       "      <td>-0.007125</td>\n",
       "      <td>-0.013813</td>\n",
       "      <td>-0.036808</td>\n",
       "      <td>-0.008933</td>\n",
       "    </tr>\n",
       "    <tr>\n",
       "      <th>2015-01-07</th>\n",
       "      <td>0.016869</td>\n",
       "      <td>0.016088</td>\n",
       "      <td>0.000383</td>\n",
       "      <td>0.001419</td>\n",
       "      <td>-0.008787</td>\n",
       "      <td>0.011563</td>\n",
       "    </tr>\n",
       "    <tr>\n",
       "      <th>2015-01-08</th>\n",
       "      <td>0.007509</td>\n",
       "      <td>0.004343</td>\n",
       "      <td>0.006108</td>\n",
       "      <td>0.019647</td>\n",
       "      <td>0.011105</td>\n",
       "      <td>0.017730</td>\n",
       "    </tr>\n",
       "    <tr>\n",
       "      <th>...</th>\n",
       "      <td>...</td>\n",
       "      <td>...</td>\n",
       "      <td>...</td>\n",
       "      <td>...</td>\n",
       "      <td>...</td>\n",
       "      <td>...</td>\n",
       "    </tr>\n",
       "    <tr>\n",
       "      <th>2020-08-18</th>\n",
       "      <td>0.008293</td>\n",
       "      <td>-0.009503</td>\n",
       "      <td>0.002263</td>\n",
       "      <td>-0.014808</td>\n",
       "      <td>-0.000230</td>\n",
       "      <td>0.002301</td>\n",
       "    </tr>\n",
       "    <tr>\n",
       "      <th>2020-08-19</th>\n",
       "      <td>0.002632</td>\n",
       "      <td>-0.001911</td>\n",
       "      <td>0.003795</td>\n",
       "      <td>-0.011366</td>\n",
       "      <td>-0.002075</td>\n",
       "      <td>-0.004414</td>\n",
       "    </tr>\n",
       "    <tr>\n",
       "      <th>2020-08-20</th>\n",
       "      <td>0.003150</td>\n",
       "      <td>0.000000</td>\n",
       "      <td>0.002352</td>\n",
       "      <td>-0.019391</td>\n",
       "      <td>-0.002311</td>\n",
       "      <td>0.003154</td>\n",
       "    </tr>\n",
       "    <tr>\n",
       "      <th>2020-08-21</th>\n",
       "      <td>0.005575</td>\n",
       "      <td>-0.001915</td>\n",
       "      <td>0.000000</td>\n",
       "      <td>-0.026454</td>\n",
       "      <td>0.000463</td>\n",
       "      <td>0.003435</td>\n",
       "    </tr>\n",
       "    <tr>\n",
       "      <th>2020-08-24</th>\n",
       "      <td>0.000695</td>\n",
       "      <td>0.013960</td>\n",
       "      <td>0.009958</td>\n",
       "      <td>0.038963</td>\n",
       "      <td>0.003693</td>\n",
       "      <td>0.007063</td>\n",
       "    </tr>\n",
       "  </tbody>\n",
       "</table>\n",
       "<p>1417 rows × 6 columns</p>\n",
       "</div>"
      ],
      "text/plain": [
       "              BCE.TO  BPY-UN.TO     RY.TO     SU.TO    ENB.TO     ^GSPC\n",
       "Date                                                                   \n",
       "2015-01-02       NaN        NaN       NaN       NaN       NaN       NaN\n",
       "2015-01-05 -0.011422   0.004803 -0.022811 -0.044622 -0.040140 -0.018447\n",
       "2015-01-06  0.007318   0.000000 -0.007125 -0.013813 -0.036808 -0.008933\n",
       "2015-01-07  0.016869   0.016088  0.000383  0.001419 -0.008787  0.011563\n",
       "2015-01-08  0.007509   0.004343  0.006108  0.019647  0.011105  0.017730\n",
       "...              ...        ...       ...       ...       ...       ...\n",
       "2020-08-18  0.008293  -0.009503  0.002263 -0.014808 -0.000230  0.002301\n",
       "2020-08-19  0.002632  -0.001911  0.003795 -0.011366 -0.002075 -0.004414\n",
       "2020-08-20  0.003150   0.000000  0.002352 -0.019391 -0.002311  0.003154\n",
       "2020-08-21  0.005575  -0.001915  0.000000 -0.026454  0.000463  0.003435\n",
       "2020-08-24  0.000695   0.013960  0.009958  0.038963  0.003693  0.007063\n",
       "\n",
       "[1417 rows x 6 columns]"
      ]
     },
     "execution_count": 71,
     "metadata": {},
     "output_type": "execute_result"
    }
   ],
   "source": [
    "log_returns"
   ]
  },
  {
   "cell_type": "code",
   "execution_count": 72,
   "metadata": {},
   "outputs": [],
   "source": [
    "# Sharpe = (beta_df['expected_return']['BPY-UN.TO_beta'] - 0.025) / \\\n",
    "#         (log_returns['BPY-UN.TO'].std() * 250 **0.5)\n",
    "# Sharpe"
   ]
  },
  {
   "cell_type": "code",
   "execution_count": 73,
   "metadata": {},
   "outputs": [],
   "source": [
    "placeholder_list = []\n",
    "for num in range(len(log_returns.columns)-1):\n",
    "    placeholder_list.append((beta_df.iloc[num]['expected_return'] - 0.025) / \\\n",
    "    (log_returns[log_returns.columns[num]].std() * 250 ** 0.5))"
   ]
  },
  {
   "cell_type": "code",
   "execution_count": 74,
   "metadata": {},
   "outputs": [
    {
     "data": {
      "text/plain": [
       "[0.15711080977714975,\n",
       " 0.1479521531777488,\n",
       " 0.19332055660104258,\n",
       " 0.1482406310326595,\n",
       " 0.15937771572068132]"
      ]
     },
     "execution_count": 74,
     "metadata": {},
     "output_type": "execute_result"
    }
   ],
   "source": [
    "placeholder_list"
   ]
  },
  {
   "cell_type": "code",
   "execution_count": 75,
   "metadata": {},
   "outputs": [],
   "source": [
    "beta_df['Sharpe'] = placeholder_list"
   ]
  },
  {
   "cell_type": "code",
   "execution_count": 76,
   "metadata": {},
   "outputs": [
    {
     "data": {
      "text/html": [
       "<div>\n",
       "<style scoped>\n",
       "    .dataframe tbody tr th:only-of-type {\n",
       "        vertical-align: middle;\n",
       "    }\n",
       "\n",
       "    .dataframe tbody tr th {\n",
       "        vertical-align: top;\n",
       "    }\n",
       "\n",
       "    .dataframe thead th {\n",
       "        text-align: right;\n",
       "    }\n",
       "</style>\n",
       "<table border=\"1\" class=\"dataframe\">\n",
       "  <thead>\n",
       "    <tr style=\"text-align: right;\">\n",
       "      <th></th>\n",
       "      <th>beta</th>\n",
       "      <th>expected_return</th>\n",
       "      <th>Sharpe</th>\n",
       "    </tr>\n",
       "  </thead>\n",
       "  <tbody>\n",
       "    <tr>\n",
       "      <th>BCE.TO_beta</th>\n",
       "      <td>0.555500</td>\n",
       "      <td>0.052775</td>\n",
       "      <td>0.157111</td>\n",
       "    </tr>\n",
       "    <tr>\n",
       "      <th>BPY-UN.TO_beta</th>\n",
       "      <td>0.934594</td>\n",
       "      <td>0.071730</td>\n",
       "      <td>0.147952</td>\n",
       "    </tr>\n",
       "    <tr>\n",
       "      <th>RY.TO_beta</th>\n",
       "      <td>0.757546</td>\n",
       "      <td>0.062877</td>\n",
       "      <td>0.193321</td>\n",
       "    </tr>\n",
       "    <tr>\n",
       "      <th>SU.TO_beta</th>\n",
       "      <td>1.029963</td>\n",
       "      <td>0.076498</td>\n",
       "      <td>0.148241</td>\n",
       "    </tr>\n",
       "    <tr>\n",
       "      <th>ENB.TO_beta</th>\n",
       "      <td>0.920336</td>\n",
       "      <td>0.071017</td>\n",
       "      <td>0.159378</td>\n",
       "    </tr>\n",
       "  </tbody>\n",
       "</table>\n",
       "</div>"
      ],
      "text/plain": [
       "                    beta  expected_return    Sharpe\n",
       "BCE.TO_beta     0.555500         0.052775  0.157111\n",
       "BPY-UN.TO_beta  0.934594         0.071730  0.147952\n",
       "RY.TO_beta      0.757546         0.062877  0.193321\n",
       "SU.TO_beta      1.029963         0.076498  0.148241\n",
       "ENB.TO_beta     0.920336         0.071017  0.159378"
      ]
     },
     "execution_count": 76,
     "metadata": {},
     "output_type": "execute_result"
    }
   ],
   "source": [
    "beta_df"
   ]
  },
  {
   "cell_type": "code",
   "execution_count": 77,
   "metadata": {},
   "outputs": [
    {
     "data": {
      "text/plain": [
       "0.05277500097282166"
      ]
     },
     "execution_count": 77,
     "metadata": {},
     "output_type": "execute_result"
    }
   ],
   "source": [
    "beta_df.iloc[0]['expected_return']"
   ]
  },
  {
   "cell_type": "code",
   "execution_count": null,
   "metadata": {},
   "outputs": [],
   "source": []
  },
  {
   "cell_type": "code",
   "execution_count": null,
   "metadata": {},
   "outputs": [],
   "source": []
  },
  {
   "cell_type": "code",
   "execution_count": null,
   "metadata": {},
   "outputs": [],
   "source": []
  },
  {
   "cell_type": "code",
   "execution_count": null,
   "metadata": {},
   "outputs": [],
   "source": []
  },
  {
   "cell_type": "code",
   "execution_count": null,
   "metadata": {},
   "outputs": [],
   "source": []
  },
  {
   "cell_type": "code",
   "execution_count": null,
   "metadata": {},
   "outputs": [],
   "source": []
  },
  {
   "cell_type": "code",
   "execution_count": null,
   "metadata": {},
   "outputs": [],
   "source": []
  }
 ],
 "metadata": {
  "kernelspec": {
   "display_name": "Python 3",
   "language": "python",
   "name": "python3"
  },
  "language_info": {
   "codemirror_mode": {
    "name": "ipython",
    "version": 3
   },
   "file_extension": ".py",
   "mimetype": "text/x-python",
   "name": "python",
   "nbconvert_exporter": "python",
   "pygments_lexer": "ipython3",
   "version": "3.7.4"
  }
 },
 "nbformat": 4,
 "nbformat_minor": 2
}
